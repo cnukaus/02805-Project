{
 "cells": [
  {
   "cell_type": "code",
   "execution_count": null,
   "metadata": {},
   "outputs": [],
   "source": [
    "from github import Github\n",
    "import networkx as nx\n",
    "import pickle\n",
    "import random"
   ]
  },
  {
   "cell_type": "code",
   "execution_count": null,
   "metadata": {},
   "outputs": [],
   "source": [
    "# Load dict of  {cryto-currencey: github-url,} eg {'bitcoin: https://github.com/bitcoin/bitcoin}\n",
    "with open('./cryptoName_gitUrl_dict.pickle', 'rb') as handle:\n",
    "    cryptoName_gitUrl_dict = pickle.load(handle)"
   ]
  },
  {
   "cell_type": "code",
   "execution_count": null,
   "metadata": {},
   "outputs": [],
   "source": [
    "print('Number of crypto-currencies WITH a Github repo: ' + str(len(cryptoName_gitUrl_dict)))\n",
    "print('')\n",
    "print('')\n",
    "print('Example entry:')\n",
    "print(list(cryptoName_gitUrl_dict.items())[-0])"
   ]
  },
  {
   "cell_type": "code",
   "execution_count": null,
   "metadata": {},
   "outputs": [],
   "source": [
    "# Convert dictionary to a lisrt of tubles for future ease of use\n",
    "cryptoName_gitUrl = [(k, v) for k, v in cryptoName_gitUrl_dict.items()]\n",
    "print(cryptoName_gitUrl[0])  # Print first \n",
    "print(cryptoName_gitUrl[-1])  # Print last"
   ]
  },
  {
   "cell_type": "code",
   "execution_count": null,
   "metadata": {},
   "outputs": [],
   "source": [
    "## Now create the preliminary NetworkX graph\n",
    "\n",
    "* The **nodes** are the **names of the crypto-currencies** \n",
    "* The **edges** are the "
   ]
  },
  {
   "cell_type": "code",
   "execution_count": null,
   "metadata": {},
   "outputs": [],
   "source": [
    "# Add crypto-currencies names as the nodes to graph\n",
    "G = nx.graph()\n",
    "G.add_nodes_from([name for (name, url) in cryptoName_gitUrl]) "
   ]
  },
  {
   "cell_type": "code",
   "execution_count": null,
   "metadata": {},
   "outputs": [],
   "source": [
    "# Use Personal Access Token\n",
    "gh = Github('9860490c5562541b51646a7f909e58e3ab420de5')"
   ]
  }
 ],
 "metadata": {
  "kernelspec": {
   "display_name": "Python 2",
   "language": "python",
   "name": "python2"
  },
  "language_info": {
   "codemirror_mode": {
    "name": "ipython",
    "version": 2
   },
   "file_extension": ".py",
   "mimetype": "text/x-python",
   "name": "python",
   "nbconvert_exporter": "python",
   "pygments_lexer": "ipython2",
   "version": "2.7.14"
  }
 },
 "nbformat": 4,
 "nbformat_minor": 2
}
