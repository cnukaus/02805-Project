{
 "cells": [
  {
   "cell_type": "code",
   "execution_count": 1,
   "metadata": {
    "collapsed": true
   },
   "outputs": [],
   "source": [
    "from github import Github"
   ]
  },
  {
   "cell_type": "code",
   "execution_count": 2,
   "metadata": {
    "collapsed": true
   },
   "outputs": [],
   "source": [
    "# Use Personal Access Token\n",
    "gh = Github('9860490c5562541b51646a7f909e58e3ab420de5')"
   ]
  },
  {
   "cell_type": "code",
   "execution_count": 7,
   "metadata": {
    "collapsed": true
   },
   "outputs": [],
   "source": [
    "search = gh.search_repositories('blockchain')"
   ]
  },
  {
   "cell_type": "code",
   "execution_count": 9,
   "metadata": {},
   "outputs": [],
   "source": [
    "result = list(search[0:100])"
   ]
  },
  {
   "cell_type": "code",
   "execution_count": 10,
   "metadata": {},
   "outputs": [
    {
     "name": "stdout",
     "output_type": "stream",
     "text": [
      "Number of results: 100\n"
     ]
    }
   ],
   "source": [
    "print('Number of results: ' + str(len(result)))"
   ]
  },
  {
   "cell_type": "code",
   "execution_count": 12,
   "metadata": {},
   "outputs": [
    {
     "name": "stdout",
     "output_type": "stream",
     "text": [
      "Repository(full_name=\"dvf/blockchain\")\n",
      "Repository(full_name=\"izqui/blockchain\")\n",
      "Repository(full_name=\"chain/chain\")\n",
      "Repository(full_name=\"bellaj/Blockchain\")\n",
      "Repository(full_name=\"jtauber/blockchain\")\n",
      "Repository(full_name=\"abrkn/blockchain\")\n",
      "Repository(full_name=\"w3c/blockchain\")\n",
      "Repository(full_name=\"hundsun/blockchain\")\n",
      "Repository(full_name=\"FireWalkerX/BlockChain\")\n",
      "Repository(full_name=\"DNAProject/DNA\")\n"
     ]
    }
   ],
   "source": [
    "for repo in result[:10]:\n",
    "    print(repo)"
   ]
  },
  {
   "cell_type": "code",
   "execution_count": 33,
   "metadata": {},
   "outputs": [
    {
     "name": "stdout",
     "output_type": "stream",
     "text": [
      "Repository name:  blockchain\n",
      "Type:             <class 'github.Repository.Repository'>\n"
     ]
    }
   ],
   "source": [
    "repo = result[0]\n",
    "print('Repository name:  ' + str(repo.name))\n",
    "print('Type:             ' + str(type(repo)))"
   ]
  },
  {
   "cell_type": "code",
   "execution_count": 36,
   "metadata": {},
   "outputs": [
    {
     "name": "stdout",
     "output_type": "stream",
     "text": [
      "First 10 stargazers of blockchain\n",
      "NamedUser(login=\"dvf\")\n",
      "NamedUser(login=\"whtsky\")\n",
      "NamedUser(login=\"peter-nan\")\n",
      "NamedUser(login=\"wassimz\")\n",
      "NamedUser(login=\"pantuflo\")\n",
      "NamedUser(login=\"justsull\")\n",
      "NamedUser(login=\"Roon\")\n",
      "NamedUser(login=\"skribled\")\n",
      "NamedUser(login=\"sch17\")\n",
      "NamedUser(login=\"ZahoreczTibor\")\n"
     ]
    }
   ],
   "source": [
    "repo = result[0]\n",
    "repos_stargazers = repo.get_stargazers()\n",
    "\n",
    "# Users who starred the repo\n",
    "print('First 10 stargazers of ' + str(repo.name))\n",
    "for user in list(repo.get_stargazers())[:10]: \n",
    "    print(user)"
   ]
  },
  {
   "cell_type": "code",
   "execution_count": 38,
   "metadata": {},
   "outputs": [
    {
     "name": "stdout",
     "output_type": "stream",
     "text": [
      "First 5 contributers of blockchain\n",
      "<github.StatsContributor.StatsContributor object at 0x000001A7FB6D08D0>\n",
      "<github.StatsContributor.StatsContributor object at 0x000001A7FB75D3C8>\n",
      "<github.StatsContributor.StatsContributor object at 0x000001A7FBFB8E80>\n",
      "<github.StatsContributor.StatsContributor object at 0x000001A7FC4F43C8>\n",
      "<github.StatsContributor.StatsContributor object at 0x000001A7FC50A160>\n"
     ]
    }
   ],
   "source": [
    "# Users who have contributed to the repo\n",
    "\n",
    "print('First 5 contributers of ' + str(repo.name))\n",
    "for user in list(repo.get_stats_contributors())[:5]: \n",
    "    print(user)"
   ]
  },
  {
   "cell_type": "code",
   "execution_count": 43,
   "metadata": {},
   "outputs": [
    {
     "name": "stdout",
     "output_type": "stream",
     "text": [
      "<github.StatsCommitActivity.StatsCommitActivity object at 0x000001A7FC4F4D30>\n",
      "<github.StatsCommitActivity.StatsCommitActivity object at 0x000001A7FC4F4FD0>\n",
      "<github.StatsCommitActivity.StatsCommitActivity object at 0x000001A7FC4F4A20>\n",
      "<github.StatsCommitActivity.StatsCommitActivity object at 0x000001A7FC4F4A58>\n",
      "<github.StatsCommitActivity.StatsCommitActivity object at 0x000001A7FC4F4748>\n"
     ]
    }
   ],
   "source": [
    "# Commit activity\n",
    "for val in (list(repo.get_stats_commit_activity())[:5]):\n",
    "    print(val)"
   ]
  },
  {
   "cell_type": "code",
   "execution_count": null,
   "metadata": {
    "collapsed": true
   },
   "outputs": [],
   "source": []
  }
 ],
 "metadata": {
  "kernelspec": {
   "display_name": "Python 3",
   "language": "python",
   "name": "python3"
  }
 },
 "nbformat": 4,
 "nbformat_minor": 1
}
