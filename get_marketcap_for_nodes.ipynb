{
 "cells": [
  {
   "cell_type": "code",
   "execution_count": 2,
   "metadata": {
    "collapsed": true
   },
   "outputs": [],
   "source": [
    "from bs4 import BeautifulSoup\n",
    "import urllib.request\n",
    "from lxml import etree\n",
    "import pickle\n",
    "import os\n",
    "import glob\n",
    "import time\n",
    "import re\n",
    "import sys"
   ]
  },
  {
   "cell_type": "code",
   "execution_count": 3,
   "metadata": {},
   "outputs": [],
   "source": [
    "with open('./cryptoName_gitUrl_dict.pickle','rb') as handle:\n",
    "    cryptoName_gitUrl_dict = pickle.load(handle)"
   ]
  },
  {
   "cell_type": "code",
   "execution_count": 4,
   "metadata": {},
   "outputs": [
    {
     "name": "stdout",
     "output_type": "stream",
     "text": [
      "['bitcoin', 'ethereum', 'bitcoin-cash', 'ripple', 'litecoin', 'dash', 'neo', 'monero', 'iota', 'nem']\n"
     ]
    }
   ],
   "source": [
    "names = list(cryptoName_gitUrl_dict.keys())\n",
    "print(names[:10])"
   ]
  },
  {
   "cell_type": "code",
   "execution_count": 10,
   "metadata": {},
   "outputs": [],
   "source": [
    "def getMarketCap(name):\n",
    "    url = r'https://coinmarketcap.com/currencies/' + name + '/'\n",
    "    try: \n",
    "        response = urllib.request.urlopen(url)\n",
    "        soup = BeautifulSoup(response, 'lxml')\n",
    "        divs = soup.findAll('div', { 'class' : 'coin-summary-item-detail' })\n",
    "        divs = ''.join(str(divs))\n",
    "        soup = BeautifulSoup(divs, 'lxml')\n",
    "        spans = soup.findAll('span')\n",
    "        names_text = [div.text.replace(',','').replace('USD','').replace(' ','').replace('$','') for div in spans]\n",
    "        \n",
    "        # Some (really small) crypto-currencies have a '?' as there marketcap \n",
    "        if names_text[0] == '?':\n",
    "            return 0\n",
    "        else:\n",
    "            return int(names_text[0])\n",
    "    except:\n",
    "        print(name)\n",
    "        return None"
   ]
  },
  {
   "cell_type": "code",
   "execution_count": 11,
   "metadata": {},
   "outputs": [
    {
     "name": "stdout",
     "output_type": "stream",
     "text": [
      "bytecoin\n",
      "lbry-credits\n",
      "heat\n",
      "denarius\n",
      "infinitecoin\n",
      "pandacoin\n",
      "regalcoin\n",
      "electroneum\n",
      "clubcoin\n",
      "boscoin\n",
      "desire\n",
      "gulfcoin\n",
      "oxycoin\n",
      "terranova\n",
      "bitbase\n",
      "vulcano\n",
      "vpncoin\n",
      "blockpool\n",
      "force\n",
      "dfscoin\n",
      "starcash-network\n",
      "flash\n",
      "stronghands\n",
      "amsterdamcoin\n",
      "adcoin\n",
      "namocoin\n",
      "protean\n",
      "avoncoin\n",
      "runners\n",
      "qora\n",
      "cyder\n",
      "utacoin\n",
      "lepen\n",
      "bitfid\n",
      "sakuracoin\n",
      "sync\n",
      "bitcedi\n",
      "tyrocoin\n",
      "goldmaxcoin\n",
      "edrcoin\n",
      "royalties\n",
      "hyper\n",
      "kashhcoin\n",
      "magnetcoin\n",
      "peoplecoin\n"
     ]
    }
   ],
   "source": [
    "name_marketcap_dict = {name:getMarketCap(name) for name in names}"
   ]
  },
  {
   "cell_type": "code",
   "execution_count": 12,
   "metadata": {
    "collapsed": true
   },
   "outputs": [],
   "source": [
    "name_marketcap_dict['bytecoin'] = 325284187\n",
    "name_marketcap_dict['lbry-credits'] = 32187024\n",
    "name_marketcap_dict['heat'] = 12753672\n",
    "name_marketcap_dict['denarius'] = 703346"
   ]
  },
  {
   "cell_type": "code",
   "execution_count": 14,
   "metadata": {},
   "outputs": [],
   "source": [
    "for key,value in name_marketcap_dict.items():\n",
    "    if value == None:\n",
    "        name_marketcap_dict[key] = 0"
   ]
  },
  {
   "cell_type": "code",
   "execution_count": 16,
   "metadata": {},
   "outputs": [],
   "source": [
    "with open('./name_marketcap_dict.pickle', 'wb') as handle:\n",
    "    pickle.dump(name_marketcap_dict, handle)"
   ]
  },
  {
   "cell_type": "code",
   "execution_count": null,
   "metadata": {
    "collapsed": true
   },
   "outputs": [],
   "source": []
  }
 ],
 "metadata": {
  "kernelspec": {
   "display_name": "Python 3",
   "language": "python",
   "name": "python3"
  },
  "language_info": {
   "codemirror_mode": {
    "name": "ipython",
    "version": 3
   },
   "file_extension": ".py",
   "mimetype": "text/x-python",
   "name": "python",
   "nbconvert_exporter": "python",
   "pygments_lexer": "ipython3",
   "version": "3.6.3"
  }
 },
 "nbformat": 4,
 "nbformat_minor": 2
}
