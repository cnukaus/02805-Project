{
 "cells": [
  {
   "cell_type": "code",
   "execution_count": 1,
   "metadata": {},
   "outputs": [],
   "source": [
    "from github import Github\n",
    "import networkx as nx\n",
    "import pickle\n",
    "import random"
   ]
  },
  {
   "cell_type": "code",
   "execution_count": 2,
   "metadata": {},
   "outputs": [
    {
     "ename": "EOFError",
     "evalue": "Ran out of input",
     "output_type": "error",
     "traceback": [
      "\u001b[1;31m----------------------------------------------------------------------\u001b[0m",
      "\u001b[1;31mEOFError\u001b[0m                             Traceback (most recent call last)",
      "\u001b[1;32m<ipython-input-2-ef9b9be18659>\u001b[0m in \u001b[0;36m<module>\u001b[1;34m()\u001b[0m\n\u001b[0;32m      1\u001b[0m \u001b[1;31m# Load dict of  {cryto-currencey: github-url,} eg {'bitcoin: https://github.com/bitcoin/bitcoin}\u001b[0m\u001b[1;33m\u001b[0m\u001b[1;33m\u001b[0m\u001b[0m\n\u001b[0;32m      2\u001b[0m \u001b[1;32mwith\u001b[0m \u001b[0mopen\u001b[0m\u001b[1;33m(\u001b[0m\u001b[1;34m'./cryptoName_gitUrl_dict.pickle'\u001b[0m\u001b[1;33m,\u001b[0m \u001b[1;34m'rb'\u001b[0m\u001b[1;33m)\u001b[0m \u001b[1;32mas\u001b[0m \u001b[0mhandle\u001b[0m\u001b[1;33m:\u001b[0m\u001b[1;33m\u001b[0m\u001b[0m\n\u001b[1;32m----> 3\u001b[1;33m     \u001b[0mcryptoName_gitUrl_dict\u001b[0m \u001b[1;33m=\u001b[0m \u001b[0mpickle\u001b[0m\u001b[1;33m.\u001b[0m\u001b[0mload\u001b[0m\u001b[1;33m(\u001b[0m\u001b[0mhandle\u001b[0m\u001b[1;33m)\u001b[0m\u001b[1;33m\u001b[0m\u001b[0m\n\u001b[0m",
      "\u001b[1;31mEOFError\u001b[0m: Ran out of input"
     ]
    }
   ],
   "source": [
    "# Load dict of  {cryto-currencey: github-url,} eg {'bitcoin: https://github.com/bitcoin/bitcoin}\n",
    "with open('./cryptoName_gitUrl_dict.pickle', 'rb') as handle:\n",
    "    cryptoName_gitUrl_dict = pickle.load(handle)"
   ]
  },
  {
   "cell_type": "code",
   "execution_count": 11,
   "metadata": {},
   "outputs": [
    {
     "name": "stdout",
     "output_type": "stream",
     "text": [
      "Number of crypto-currencies WITH a Github repo: 423\n",
      "\n",
      "\n",
      "Example entry:\n",
      "('bitcoin', 'https://github.com/bitcoin/bitcoin')\n"
     ]
    }
   ],
   "source": [
    "print('Number of crypto-currencies WITH a Github repo: ' + str(len(cryptoName_gitUrl_dict)))\n",
    "print('')\n",
    "print('')\n",
    "print('Example entry:')\n",
    "print(list(cryptoName_gitUrl_dict.items())[-0])"
   ]
  },
  {
   "cell_type": "code",
   "execution_count": 16,
   "metadata": {},
   "outputs": [
    {
     "name": "stdout",
     "output_type": "stream",
     "text": [
      "('bitcoin', 'https://github.com/bitcoin/bitcoin')\n",
      "('bitfid', 'https://github.com/FidChain/-')\n"
     ]
    }
   ],
   "source": [
    "# Convert dictionary to a lisrt of tubles for future ease of use\n",
    "# Get full name of repo (from the https url)\n",
    "cryptoName_gitUrl = [(k, v.replace('https://github.com/','')) for k, v in cryptoName_gitUrl_dict.items()]\n",
    "print(cryptoName_gitUrl[0])  # Print first \n",
    "print(cryptoName_gitUrl[-1])  # Print last"
   ]
  },
  {
   "cell_type": "markdown",
   "metadata": {},
   "source": [
    "## Now create the preliminary NetworkX graph\n",
    "\n",
    "There are two types of node\n",
    "* The names of the crypto-currencies (e.g. 'bitcoin')\n",
    "*  The GitHub users that *\"starred\"* any of the repository's in question (e.g 'random_user_123')\n",
    "\n",
    "\n",
    "There is one type of edge\n",
    "* There is an edge between a GitHub repository and the user if the starred the reposity"
   ]
  },
  {
   "cell_type": "code",
   "execution_count": null,
   "metadata": {
    "collapsed": true
   },
   "outputs": [],
   "source": [
    "# Add crypto-currencies names as the nodes to graph\n",
    "G = nx.graph()\n",
    "G.add_nodes_from([crypto_name for (crypto_name, repo_name) in cryptoName_gitUrl]) "
   ]
  },
  {
   "cell_type": "markdown",
   "metadata": {},
   "source": [
    "**Get users  who stargazed each repo**"
   ]
  },
  {
   "cell_type": "code",
   "execution_count": null,
   "metadata": {
    "collapsed": true
   },
   "outputs": [],
   "source": [
    "# Use Personal Access Token\n",
    "gh = Github('9860490c5562541b51646a7f909e58e3ab420de5')"
   ]
  },
  {
   "cell_type": "code",
   "execution_count": null,
   "metadata": {
    "collapsed": true
   },
   "outputs": [],
   "source": [
    "# Create dictionary of the repo objects. {crypto-currences: repository object}\n",
    "crypto_repo = {}\n",
    "for (crypto_name, repo_name) in cryptoName_gitUrl:\n",
    "    repo = gh.get_repo(repo_name)\n",
    "    crypto_repo[crypto_name] = repo\n",
    "\n",
    "# Pickle dict to current directory \n",
    "with open('./crypto_rep.pickle', 'wb') as handle:\n",
    "    pickle.dump(cryptoName_gitUrl_dict, handle, protocol=pickle.HIGHEST_PROTOCOL)"
   ]
  },
  {
   "cell_type": "code",
   "execution_count": null,
   "metadata": {},
   "outputs": [],
   "source": []
  }
 ],
 "metadata": {
  "kernelspec": {
   "display_name": "Python 3",
   "language": "python",
   "name": "python3"
  },
  "language_info": {
   "codemirror_mode": {
    "name": "ipython",
    "version": 3
   },
   "file_extension": ".py",
   "mimetype": "text/x-python",
   "name": "python",
   "nbconvert_exporter": "python",
   "pygments_lexer": "ipython3",
   "version": "3.6.3"
  }
 },
 "nbformat": 4,
 "nbformat_minor": 2
}
