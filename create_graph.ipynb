{
 "cells": [
  {
   "cell_type": "code",
   "execution_count": 4,
   "metadata": {
    "collapsed": true
   },
   "outputs": [],
   "source": [
    "from github import Github\n",
    "import networkx as nx\n",
    "import pickle\n",
    "import random"
   ]
  },
  {
   "cell_type": "code",
   "execution_count": 8,
   "metadata": {},
   "outputs": [],
   "source": [
    "# Load dict of  {cryto-currencey: github-url,} eg {'bitcoin: https://github.com/bitcoin/bitcoin}\n",
    "with open('./cryptoName_gitUrl_dict.pickle', 'rb') as handle:\n",
    "    cryptoName_gitUrl_dict = pickle.load(handle)"
   ]
  },
  {
   "cell_type": "code",
   "execution_count": 11,
   "metadata": {},
   "outputs": [
    {
     "name": "stdout",
     "output_type": "stream",
     "text": [
      "Number of crypto-currencies WITH a Github repo: 423\n",
      "\n",
      "\n",
      "Example entry:\n",
      "('bitcoin', 'https://github.com/bitcoin/bitcoin')\n"
     ]
    }
   ],
   "source": [
    "print('Number of crypto-currencies WITH a Github repo: ' + str(len(cryptoName_gitUrl_dict)))\n",
    "print('')\n",
    "print('')\n",
    "print('Example entry:')\n",
    "print(list(cryptoName_gitUrl_dict.items())[-0])"
   ]
  },
  {
   "cell_type": "code",
   "execution_count": 16,
   "metadata": {},
   "outputs": [
    {
     "name": "stdout",
     "output_type": "stream",
     "text": [
      "('bitcoin', 'https://github.com/bitcoin/bitcoin')\n",
      "('bitfid', 'https://github.com/FidChain/-')\n"
     ]
    }
   ],
   "source": [
    "# Convert dictionary to a lisrt of tubles for future ease of use\n",
    "cryptoName_gitUrl = [(k, v) for k, v in cryptoName_gitUrl_dict.items()]\n",
    "print(cryptoName_gitUrl[0])  # Print first \n",
    "print(cryptoName_gitUrl[-1])  # Print last"
   ]
  },
  {
   "cell_type": "markdown",
   "metadata": {},
   "source": [
    "## Now create the preliminary NetworkX graph\n",
    "\n",
    "* The **nodes** are the **names of the crypto-currencies** \n",
    "* The **edges** are the "
   ]
  },
  {
   "cell_type": "code",
   "execution_count": null,
   "metadata": {
    "collapsed": true
   },
   "outputs": [],
   "source": [
    "# Add crypto-currencies names as the nodes to graph\n",
    "G = nx.graph()\n",
    "G.add_nodes_from([name for (name, url) in cryptoName_gitUrl]) "
   ]
  },
  {
   "cell_type": "code",
   "execution_count": null,
   "metadata": {
    "collapsed": true
   },
   "outputs": [],
   "source": [
    "# Use Personal Access Token\n",
    "gh = Github('9860490c5562541b51646a7f909e58e3ab420de5')"
   ]
  },
  {
   "cell_type": "code",
   "execution_count": null,
   "metadata": {
    "collapsed": true
   },
   "outputs": [],
   "source": [
    "for crypto_name in cyptoName_gitUrl_dict:\n",
    "    "
   ]
  }
 ],
 "metadata": {
  "kernelspec": {
   "display_name": "Python 3",
   "language": "python",
   "name": "python3"
  },
  "language_info": {
   "codemirror_mode": {
    "name": "ipython",
    "version": 3
   },
   "file_extension": ".py",
   "mimetype": "text/x-python",
   "name": "python",
   "nbconvert_exporter": "python",
   "pygments_lexer": "ipython3",
   "version": "3.6.3"
  }
 },
 "nbformat": 4,
 "nbformat_minor": 2
}
