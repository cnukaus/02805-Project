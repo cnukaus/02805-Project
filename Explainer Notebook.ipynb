{
 "cells": [
  {
   "cell_type": "markdown",
   "metadata": {},
   "source": [
    "# 1. Motivation\n",
    "\n",
    "## 1.1 How and why we want to analyze the cryptocurrency developer community\n",
    "\n",
    "Cryptocurrencies are maybe the most interesting economic phenomenon in recent years. Being able to basically generate money by running computer algorithms and doing very little work after an initial setup is a very tempting outlook for everybody. And even though the possible uses of bitcoin and co. to actually buy stuff from the real world are still limited, more and more people have jumped on the train of mining and trading with cryptocurrencies, resulting in huge value increases. In 2017 alone, the worth of bitcoin, the oldest, most common and most valuable cryptocurrency, has increased more than tenfold, [eclipsing the 10,000$ mark on November 28th](http://markets.businessinsider.com/currencies/news/bitcoin-price-clears-10000-2017-11-1009817597). This has lead to some interesting developments in recent time, such as prices for some computer hardware, especially powerful graphics cards, [almost doubling in the last year](https://www.digitaltrends.com/computing/cryptocurrency-mining-graphics-card-prices/).\n",
    "\n",
    "But just as more and more people have begun to join the virtual gold rush and try their luck at mining bitcoins with their home equipment, other groups of programming enthusiasts and cryptology specialists have started to create alternatives to the almighty bitcoin, resulting in hundreds of more or less valuable virtual forms of money being available and ready to be mined. In order to do so, one has to get a piece of source code from the internet, which is most of the time stored on github.\n",
    "\n",
    "Github itself, again, is not only a way to share and collaborate on programmin projects, but also has functions that make it a social platform, such as the ability to follow another user or to \"like\" a certain project or code reporitory. This second act is called \"stargazing\" in github terms. And that's where data science and social graphs come into play. We want to find out, how the stargazer community of different cryptocurrencies is shaped. In order to do so, we need to get the necessary information about the code repositories via the github api and then analyze it with tools of network science. \n",
    "\n",
    "We also want to take a look at the Wikipedia entries of some cryptocurrencies and try to find differences in word choice, etc. Because most of the digital currencies are very new or small, the number of Wikipedia entries is very limited.\n",
    "\n",
    "> *TL;DR:* **We want to analyze the community of cryptocurrency enthusiasts on github and the corresponding Wikipedia pages. We want to do this, because it is a booming, highly discussed industry that could change the face of the financial world**"
   ]
  },
  {
   "cell_type": "markdown",
   "metadata": {},
   "source": [
    "## 1.2 Dataset description\n",
    "\n",
    "The dataset that we collected and analyzed contains the github repositories for over 300 cryptocurrencies and their stargazers. Also, we have information on which of the users that starred one of the repositories follow each other. The second piece of data are the Wikipedia pages to some of the aforementioned currencies."
   ]
  },
  {
   "cell_type": "markdown",
   "metadata": {},
   "source": [
    "## 1.3 Goals for user experience\n",
    "\n",
    "With the website, we want to provide insight to several questions about the cryptocurrency community:\n",
    "\n",
    "* How is github relevance connected to a currency's market value?\n",
    "* What are the similarities between several cryptocurrencies' following bases?\n",
    "* Are there communities within the group of users starring cryptocurrency repositories?\n",
    "* What can we gain from analyzing the Wikipedia pages of certain currencies?"
   ]
  },
  {
   "cell_type": "markdown",
   "metadata": {},
   "source": [
    "# 2. The data\n",
    "\n",
    "## 2.1 Dataset collection and setup\n",
    "\n",
    "### 2.1.1 Network data collection\n",
    "\n",
    "To gain an insight on which cryptocurrencies exist and where to find their source code, we first need a place to gain this information from. On [coinmarketcap.com](https://coinmarketcap.com/), we can find all the cryptocurrencies' names:\n",
    "\n",
    "\n"
   ]
  },
  {
   "cell_type": "code",
   "execution_count": null,
   "metadata": {
    "collapsed": true
   },
   "outputs": [],
   "source": [
    "from bs4 import BeautifulSoup\n",
    "import urllib.request\n",
    "from lxml import etree\n",
    "import pickle\n",
    "import os\n",
    "import glob\n",
    "import re\n",
    "import sys"
   ]
  },
  {
   "cell_type": "code",
   "execution_count": null,
   "metadata": {
    "collapsed": true
   },
   "outputs": [],
   "source": [
    "def getNames():\n",
    "    url = r'https://coinmarketcap.com/coins/views/all/'\n",
    "    response = urllib.request.urlopen(url)\n",
    "    soup = BeautifulSoup(response, 'lxml')\n",
    "    names_divs = soup.findAll('a', { 'class' : 'currency-name-container' })\n",
    "    names_text = [div.text for div in names_divs]\n",
    "    return names_text"
   ]
  },
  {
   "cell_type": "markdown",
   "metadata": {},
   "source": [
    "Now, we need to clean up the currency names so that they all match the same standard"
   ]
  },
  {
   "cell_type": "code",
   "execution_count": 5,
   "metadata": {},
   "outputs": [
    {
     "name": "stdout",
     "output_type": "stream",
     "text": [
      "There are 903 crypto-currencies.   -source coinmarketcap.com\n",
      "['bitcoin', 'ethereum', 'bitcoin-cash', 'ripple', 'litecoin']\n"
     ]
    }
   ],
   "source": [
    "crypto_currency_names = [name.replace(' ','-').lower() for name in getNames()]\n",
    "N = len(crypto_currency_names)\n",
    "\n",
    "print('There are ' + str(N) + ' crypto-currencies.   -source coinmarketcap.com')\n",
    "print(crypto_currency_names[0:5]) # (These are the top five)"
   ]
  },
  {
   "cell_type": "markdown",
   "metadata": {},
   "source": [
    "As a next step, we need to find the actual github repositories for the currencies. The site [coingecko.com](https://www.coingecko.com/en) allows us to get this information (Note that not all cryptocurrencies have github repositories, thus we will end up with a shorter list than before):"
   ]
  },
  {
   "cell_type": "code",
   "execution_count": null,
   "metadata": {
    "collapsed": true
   },
   "outputs": [],
   "source": []
  },
  {
   "cell_type": "markdown",
   "metadata": {},
   "source": [
    "### 2.1.2 Network setup\n",
    "\n",
    "With the data we gained, we can now set up a network with the following properties: \n",
    "* **Nodes** can either be **users** or **currencies**. This is specified by a node attribute \"Type\"\n",
    "* **Edges** are either of the type **gazes** (User-to-currency) or **follows** (user-to-user)"
   ]
  },
  {
   "cell_type": "code",
   "execution_count": 1,
   "metadata": {
    "collapsed": true
   },
   "outputs": [],
   "source": [
    "from github import Github\n",
    "import networkx as nx\n",
    "import pickle\n",
    "import random\n",
    "import json\n",
    "import numpy as np\n",
    "import matplotlib.pyplot as plt \n",
    "import re\n",
    "import itertools as it\n",
    "import operator"
   ]
  },
  {
   "cell_type": "code",
   "execution_count": 2,
   "metadata": {
    "collapsed": true
   },
   "outputs": [],
   "source": [
    "# Load data\n",
    "with open('./crypto_stargazers_dict.pickle', 'rb') as handle:\n",
    "    crypto_stargazers_dict = pickle.load(handle)\n",
    "    \n",
    "Stargaze_Network = nx.DiGraph()\n",
    "\n",
    "# Setup network\n",
    "for crypto_name, stargazers_list in crypto_stargazers_dict.items():\n",
    "    # Add node for the currency (if not already there)\n",
    "    if crypto_name not in Stargaze_Network.nodes():\n",
    "        Stargaze_Network.add_node(crypto_name, Type=\"Currency\")\n",
    "    for user in stargazers_list:\n",
    "        # add nodes for all stargazers (if not already there)\n",
    "        if user.login not in Stargaze_Network.nodes():\n",
    "            Stargaze_Network.add_node(user.login, Type=\"User\")\n",
    "            \n",
    "        # add edge from user to currency\n",
    "        Stargaze_Network.add_edge(user.login, crypto_name, type=\"gazes\")\n",
    "\n",
    "# Save the graph\n",
    "with open('./Stargaze_Network.pickle', 'wb') as handle:\n",
    "    pickle.dump(Stargaze_Network, handle, protocol=pickle.HIGHEST_PROTOCOL)"
   ]
  },
  {
   "cell_type": "markdown",
   "metadata": {},
   "source": [
    "### 2.1.3 Wikipedia entry collection\n",
    "\n",
    "The second set of data we are going to analyze are Wikipedia pages of cryptocurrencies. We can find a list of Wikipedia's pages about these [here](https://en.wikipedia.org/wiki/List_of_cryptocurrencies). After downloading it, we can find all the links to pages covering specific currencies:"
   ]
  },
  {
   "cell_type": "code",
   "execution_count": 3,
   "metadata": {
    "collapsed": true
   },
   "outputs": [],
   "source": [
    "import pickle\n",
    "import random\n",
    "import json\n",
    "import numpy as np\n",
    "import io\n",
    "import re\n",
    "import urllib3\n",
    "import urllib.request"
   ]
  },
  {
   "cell_type": "code",
   "execution_count": 4,
   "metadata": {},
   "outputs": [
    {
     "name": "stdout",
     "output_type": "stream",
     "text": [
      "['<!--Currency       --> [[Bitcoin]]', '<!--Currency       --> [[Litecoin]]', '<!--Currency       --> [[Namecoin]]', '<!--Currency       --> [[SwiftCoin]]', '<!--Currency       --> [[Peercoin]]', '<!--Currency       --> [[Dogecoin]]', '<!--Currency       --> [[Emercoin]]', '<!--Currency       --> [[Gridcoin]]', '<!--Currency       --> [[Mastercoin|Omni]]', '<!--Currency       --> [[Primecoin]]', '<!--Currency       --> [[Ripple (payment protocol)|Ripple]]<ref name=psmag>{{cite web|last=Chayka|first=Kyle|title=What Comes After Bitcoin?|url=http://www.psmag.com/navigation/business-economics/what-comes-after-bitcoin-future-of-cryptocurrency-61660/|publisher=Pacific Standard|date=2 July 2013|accessdate=18 Jan 2014}}</ref><ref>{{ cite news | title=Ripple', '<!--Currency       --> [[Auroracoin]]', '<!--Currency       --> [[BlackCoin]]', '<!--Currency       --> [[Burstcoin]]', '<!--Currency       --> [[Coinye]]', '<!--Currency       --> [[Dash (cryptocurrency)|Dash]]', '<!--Currency       --> [[CryptoNote#DigitalNote (XDN)|DigitalNote]]', '<!--Currency       --> [[MazaCoin]]', '<!--Currency       --> [[Monero (cryptocurrency)|Monero]]', '<!--Currency       --> [[NEM (cryptocurrency)|NEM]]', '<!--Currency       --> [[Nxt]]', '<!--Currency       --> [[PotCoin]]', '<!--Currency       --> [[Synereo|Synereo AMP]]', '<!--Currency       --> [[Titcoin]]', '<!--Currency       --> [[Vertcoin]]', '<!--Currency       --> [[Ethereum]]', '<!--Currency       --> [[Ethereum Classic]]', '<!--Currency       --> [[IOTA (cryptocurrency)|IOTA]]', '<!--Currency       --> [[SixEleven]]', '<!--Currency       --> [[Decred]]', '<!--Currency       --> [[Waves Platform]]', '<!--Currency       --> [[Zcash]]', '<!--Currency       --> [[Ark Ecosystem]]', '<!--Currency       --> [[Bitcoin Cash]]', '<!--Currency       --> [[Ubiq]]']\n"
     ]
    }
   ],
   "source": [
    "# Load dowloaded page\n",
    "with open('./list_of_cryptocurrencies.txt', 'rb') as handle:\n",
    "    list_of_ccs = handle.read()\n",
    "    \n",
    "# Find all currencies in the table\n",
    "entries = re.findall(r'<!--Currency.[^\\\\]+', str(list_of_ccs))\n",
    "print(entries)"
   ]
  },
  {
   "cell_type": "code",
   "execution_count": 7,
   "metadata": {},
   "outputs": [
    {
     "name": "stdout",
     "output_type": "stream",
     "text": [
      "['Bitcoin', 'Litecoin', 'Namecoin', 'SwiftCoin', 'Peercoin', 'Dogecoin', 'Emercoin', 'Gridcoin', 'Mastercoin', 'Primecoin', 'Ripple (payment protocol)', 'Auroracoin', 'BlackCoin', 'Burstcoin', 'Coinye', 'Dash (cryptocurrency)', 'CryptoNote#DigitalNote (XDN)', 'MazaCoin', 'Monero (cryptocurrency)', 'NEM (cryptocurrency)', 'Nxt', 'PotCoin', 'Synereo', 'Titcoin', 'Vertcoin', 'Ethereum', 'Ethereum Classic', 'IOTA (cryptocurrency)', 'SixEleven', 'Decred', 'Waves Platform', 'Zcash', 'Ark Ecosystem', 'Bitcoin Cash', 'Ubiq']\n"
     ]
    }
   ],
   "source": [
    "# Clean up line headers, brackets, ...\n",
    "wikipedia_currencies = []\n",
    "for e in entries:\n",
    "    name = re.search(r\"(\\[\\[)(.[^|\\]]+)\", e).group(2)\n",
    "    wikipedia_currencies.append(name)\n",
    "    \n",
    "print(wikipedia_currencies)"
   ]
  },
  {
   "cell_type": "markdown",
   "metadata": {},
   "source": [
    "Now that we have this information, we need to download theactual pages. Therefore we need a function accessing the Wikipedia api."
   ]
  },
  {
   "cell_type": "code",
   "execution_count": 5,
   "metadata": {
    "collapsed": true
   },
   "outputs": [],
   "source": [
    "# Downloads the Wikipedia page for the given page name\n",
    "def get_wikipage(page):\n",
    "    # Construct URL\n",
    "    baseurl=\"https://en.wikipedia.org/w/api.php?\"\n",
    "    action=\"action=query&\"\n",
    "    title=\"titles=%s&\" % (page)\n",
    "    content=\"prop=revisions&rvprop=content&\"\n",
    "    dataformat=\"format=json\"\n",
    "\n",
    "    query=\"%s%s%s%s%s\" % (baseurl,action,title,content,dataformat)\n",
    "    \n",
    "    # Download page\n",
    "    req = urllib.request.Request(query)\n",
    "    data_raw = urllib.request.urlopen(req).read()\n",
    "    data = json.loads(data_raw)\n",
    "    return data\n",
    "\n",
    "\n"
   ]
  },
  {
   "cell_type": "markdown",
   "metadata": {},
   "source": [
    "Wikipedia URLs have some rules, so we replace \" \" with \"_\" and catch one special case before actually downloading the pages."
   ]
  },
  {
   "cell_type": "code",
   "execution_count": 8,
   "metadata": {},
   "outputs": [],
   "source": [
    "# Clean page names\n",
    "wiki_nospace = [re.sub(\" \", \"_\", c) for c in wikipedia_currencies]\n",
    "wiki_nospace = [re.sub(\"#.+\", \"\", c) for c in wiki_nospace]\n",
    "\n",
    "# Download\n",
    "currency_pages_raw = [get_wikipage(c) for c in wiki_nospace]"
   ]
  },
  {
   "cell_type": "code",
   "execution_count": null,
   "metadata": {
    "collapsed": true
   },
   "outputs": [],
   "source": [
    "# Save raw data\n",
    "with open(\"./currency_pages_raw.pickle\", \"wb\") as output:\n",
    "    pickle.dump(currency_pages_raw, output)"
   ]
  },
  {
   "cell_type": "markdown",
   "metadata": {},
   "source": [
    "As a last step we need to extract the actual page content from the downloaded JSON file and store these easily accessible"
   ]
  },
  {
   "cell_type": "code",
   "execution_count": 9,
   "metadata": {
    "collapsed": true
   },
   "outputs": [],
   "source": [
    "# Extract page contents from JSON\n",
    "currency_pages = []\n",
    "\n",
    "for j in currency_pages_raw:\n",
    "    text=list(j[\"query\"][\"pages\"].values())[0][\"revisions\"][0][\"*\"]\n",
    "    currency_pages.append(text)\n",
    "    \n",
    "# Create dictionary\n",
    "currency_pages_dict = {}\n",
    "for i in range(len(currency_pages)):\n",
    "    currency_pages_dict[wikipedia_currencies[i]] = currency_pages[i]"
   ]
  },
  {
   "cell_type": "code",
   "execution_count": null,
   "metadata": {
    "collapsed": true
   },
   "outputs": [],
   "source": [
    "# Save this\n",
    "with open(\"./currency_pages_dict.pickle\", \"wb\") as output:\n",
    "    pickle.dump(currency_pages_dict, output)"
   ]
  },
  {
   "cell_type": "markdown",
   "metadata": {},
   "source": [
    "## 2.2 Summary statistics and basic properties of the network\n",
    "\n",
    "Afteer collecting all our data, we can start looking into it. First, we need an overview of how big our network is:"
   ]
  },
  {
   "cell_type": "code",
   "execution_count": 4,
   "metadata": {},
   "outputs": [
    {
     "name": "stdout",
     "output_type": "stream",
     "text": [
      "Total number of currencies: 317\n",
      "Total number of users: 40822\n",
      "Total number of stars: 57462\n"
     ]
    }
   ],
   "source": [
    "# Number uf users and currencies\n",
    "users = []\n",
    "currencies = []\n",
    "for node, data in Stargaze_Network.nodes(data=True):\n",
    "    if data[\"Type\"]==\"User\":\n",
    "        users.append(node)\n",
    "    else:\n",
    "        currencies.append(node)\n",
    "    \n",
    "\n",
    "print(\"Total number of currencies:\", len(currencies))\n",
    "print(\"Total number of users:\", len(users))\n",
    "print(\"Total number of stars:\", len(Stargaze_Network.edges()))"
   ]
  },
  {
   "cell_type": "code",
   "execution_count": null,
   "metadata": {
    "collapsed": true
   },
   "outputs": [],
   "source": []
  }
 ],
 "metadata": {
  "kernelspec": {
   "display_name": "Python 3",
   "language": "python",
   "name": "python3"
  },
  "language_info": {
   "codemirror_mode": {
    "name": "ipython",
    "version": 3
   },
   "file_extension": ".py",
   "mimetype": "text/x-python",
   "name": "python",
   "nbconvert_exporter": "python",
   "pygments_lexer": "ipython3",
   "version": "3.6.3"
  }
 },
 "nbformat": 4,
 "nbformat_minor": 2
}
