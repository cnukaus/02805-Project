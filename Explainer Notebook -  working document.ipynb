{
 "cells": [
  {
   "cell_type": "markdown",
   "metadata": {},
   "source": [
    "### 2.1.2 Network setup\n",
    "\n",
    "With the data we gained, we can now set up a network with the following properties: \n",
    "* **Nodes** can either be **users** or **currencies**. This is specified by a node attribute \"Type\"\n",
    "* **Edges** are either of the type **gazes** (User-to-currency) or **follows** (user-to-user)"
   ]
  },
  {
   "cell_type": "code",
   "execution_count": 5,
   "metadata": {
    "collapsed": true
   },
   "outputs": [],
   "source": [
    "from github import Github\n",
    "import networkx as nx\n",
    "import pickle\n",
    "import random\n",
    "import json\n",
    "import numpy as np\n",
    "import matplotlib.pyplot as plt \n",
    "import re\n",
    "import itertools as it\n",
    "import operator\n",
    "import time\n",
    "import datetime\n",
    "from pathlib import Path\n",
    "import community"
   ]
  },
  {
   "cell_type": "code",
   "execution_count": 6,
   "metadata": {
    "collapsed": true
   },
   "outputs": [],
   "source": [
    "# Load data\n",
    "with open('./crypto_stargazers_dict.pickle', 'rb') as handle:\n",
    "    crypto_stargazers_dict = pickle.load(handle)\n",
    "    \n",
    "Stargaze_Network = nx.DiGraph()\n",
    "\n",
    "# Setup network\n",
    "for crypto_name, stargazers_list in crypto_stargazers_dict.items():\n",
    "    # Add node for the currency (if not already there)\n",
    "    if crypto_name not in Stargaze_Network.nodes():\n",
    "        Stargaze_Network.add_node(crypto_name, Type=\"Currency\")\n",
    "    for user in stargazers_list:\n",
    "        # add nodes for all stargazers (if not already there)\n",
    "        if user.login not in Stargaze_Network.nodes():\n",
    "            Stargaze_Network.add_node(user.login, Type=\"User\")\n",
    "            \n",
    "        # add edge from user to currency\n",
    "        Stargaze_Network.add_edge(user.login, crypto_name, Type=\"gazes\")"
   ]
  },
  {
   "cell_type": "code",
   "execution_count": 7,
   "metadata": {},
   "outputs": [
    {
     "name": "stdout",
     "output_type": "stream",
     "text": [
      "\n",
      "Type: DiGraph\n",
      "Number of nodes: 41211\n",
      "Number of edges: 57462\n",
      "Average in degree:   1.3943\n",
      "Average out degree:   1.3943\n"
     ]
    }
   ],
   "source": [
    "# Quick summary of graph so far\n",
    "print(nx.info(Stargaze_Network)[6:])"
   ]
  },
  {
   "cell_type": "code",
   "execution_count": 8,
   "metadata": {
    "collapsed": true
   },
   "outputs": [],
   "source": [
    "# Save the graph\n",
    "with open('./Stargaze_Network.pickle', 'wb') as handle:\n",
    "    pickle.dump(Stargaze_Network, handle, protocol=pickle.HIGHEST_PROTOCOL)"
   ]
  },
  {
   "cell_type": "markdown",
   "metadata": {},
   "source": [
    "**Add links between users**\n",
    "A edge points from one github user to another if the user follows the other user on github.<br>\n",
    "Hence,\n",
    "* edges representing a users \"following\" are pointing to the user. (from their following to the user)\n",
    "* edges representing a users \"followers\" are poining away from the user (from the user to their followers)\n",
    "\n",
    "By geting the users a user is following for every user in the network and intersecting this with users in the network (as as most of the users a user is following with not have starred any of the github communities) we will be able to create "
   ]
  },
  {
   "cell_type": "code",
   "execution_count": 9,
   "metadata": {
    "collapsed": true
   },
   "outputs": [],
   "source": [
    "# Use Personal Access Token\n",
    "gh = Github('9860490c5562541b51646a7f909e58e3ab420de5')\n",
    "\n",
    "with open('./crypto_stargazers_dict.pickle', 'rb') as handle:\n",
    "    crypto_stargazers_dict = pickle.load(handle)\n",
    "    \n",
    "with open('./Stargaze_Network.pickle', 'rb') as handle:\n",
    "    Stargaze_Network = pickle.load(handle)\n",
    "users_set = set(Stargaze_Network.nodes)"
   ]
  },
  {
   "cell_type": "code",
   "execution_count": 10,
   "metadata": {},
   "outputs": [
    {
     "name": "stdout",
     "output_type": "stream",
     "text": [
      "Number of unique users:  40825\n"
     ]
    }
   ],
   "source": [
    "# List of lists of stargazers of each crypto-currency\n",
    "user_list_of_lists = [stargazers_list for crypto_name, stargazers_list in crypto_stargazers_dict.items()]\n",
    "\n",
    "# Convert lists of lists to one long list (will contain duplicates)\n",
    "flat_user_list = [user_object for user_list in user_list_of_lists for user_object in user_list]\n",
    "\n",
    "# Replace PyGitHub user objects with the username of the user-object \n",
    "login_userobject_list = [(user.login,user) for user in flat_user_list]\n",
    "\n",
    "# Remove duplicates\n",
    "login_userobject_list = list(dict(login_userobject_list).items()) \n",
    "\n",
    "print('Number of unique users: ',len(login_userobject_list))"
   ]
  },
  {
   "cell_type": "markdown",
   "metadata": {},
   "source": [
    "The section below was run in chunks taking over 70 hours of  runtime due to the slow request time for the GitHub API requests. \n",
    "We could not run this code block in the explainer notebook as it would take three days hence this section has no output."
   ]
  },
  {
   "cell_type": "code",
   "execution_count": null,
   "metadata": {
    "collapsed": true
   },
   "outputs": [],
   "source": [
    "t_start = time.time()\n",
    "following_dict = {}\n",
    "\n",
    "for i,(login, user_object) in enumerate(login_userobject_list):\n",
    "   \n",
    "    try:\n",
    "        # Calling the GitHub API to get the users a user follows\n",
    "         # Adds the users followers and following into dicts. The key is the the users login\n",
    "        following_dict[login] = [follower.login for follower in gh.get_user(user_object.login).get_following() if follower.login in users_set]\n",
    "    except:\n",
    "        print(i)\n",
    "\n",
    "    # Pickle \"following_dict\" every 1000 users (we have 40824 users so  this will result in 41 files)\n",
    "    if i in range(1000,40825,1000) or i == 40824:\n",
    "        filename = './' + 'following_dict' + '__' + str(i-1000) + '_TO_' + str(i) + '.pickle'\n",
    "        with open(filename, 'wb') as handle:\n",
    "            pickle.dump(following_dict, handle, protocol=pickle.HIGHEST_PROTOCOL)\n",
    "        print(filename)\n",
    "        following_dict = {}\n",
    "        now = time.time()\n",
    "        print('i: ', i, '  | Runtime: ', now-t_start)"
   ]
  },
  {
   "cell_type": "code",
   "execution_count": 11,
   "metadata": {
    "collapsed": true
   },
   "outputs": [],
   "source": [
    "pathlist = Path('./following/').glob('**/*.pickle')\n",
    "Following_Network = nx.DiGraph()\n",
    "\n",
    "# Iterate over the 41 pickled files\n",
    "for i,path in enumerate(pathlist):\n",
    "    with open(str(path), 'rb') as handle:\n",
    "        following = pickle.load(handle)\n",
    "\n",
    "        for user_login in following:\n",
    "            for followed_user in following[user_login]:\n",
    "                # Add the followed users as edges from a given user\n",
    "                Following_Network.add_edge(user_login, followed_user, Type=\"following\")"
   ]
  },
  {
   "cell_type": "code",
   "execution_count": 12,
   "metadata": {
    "collapsed": true
   },
   "outputs": [],
   "source": [
    "# Save the graph\n",
    "with open('./Following_Network.pickle', 'wb') as handle:\n",
    "    pickle.dump(Following_Network, handle, protocol=pickle.HIGHEST_PROTOCOL)"
   ]
  },
  {
   "cell_type": "code",
   "execution_count": 13,
   "metadata": {},
   "outputs": [
    {
     "name": "stdout",
     "output_type": "stream",
     "text": [
      "\n",
      "Type: DiGraph\n",
      "Number of nodes: 24404\n",
      "Number of edges: 77117\n",
      "Average in degree:   3.1600\n",
      "Average out degree:   3.1600\n"
     ]
    }
   ],
   "source": [
    "print(nx.info(Following_Network)[6:])"
   ]
  },
  {
   "cell_type": "markdown",
   "metadata": {},
   "source": [
    "Comparing to the previous quick summary of the Stargaze_Network graph before the \"following\" edges where added we can see we have the same number of  nodes, 41211.\n",
    "\n",
    "However we now have more edges, 134,556 compared to 57,462 previously.\n",
    "\n",
    "Hence for the Stargaze_Network graph of 134,556 edges\n",
    "* 57,462 are \"gazes\" edges\n",
    "* 77,094 are \"following\" edges"
   ]
  },
  {
   "cell_type": "code",
   "execution_count": 14,
   "metadata": {
    "collapsed": true
   },
   "outputs": [],
   "source": [
    "# Save the graph\n",
    "with open('./Following_Network.pickle', 'rb') as handle:\n",
    "    Following_Network = pickle.load(handle)"
   ]
  },
  {
   "cell_type": "markdown",
   "metadata": {},
   "source": [
    "**Community Partition**"
   ]
  },
  {
   "cell_type": "code",
   "execution_count": 15,
   "metadata": {
    "collapsed": true
   },
   "outputs": [],
   "source": [
    "# For the python-louvain community partition we need an undirected grah\n",
    "Following_Network_undirected = Following_Network.to_undirected()\n",
    "partition = community.best_partition(Following_Network_undirected)"
   ]
  },
  {
   "cell_type": "code",
   "execution_count": 16,
   "metadata": {},
   "outputs": [
    {
     "name": "stdout",
     "output_type": "stream",
     "text": [
      "The best partition results in 100.0 communities\n"
     ]
    }
   ],
   "source": [
    "# Check how many communities where partitioned\n",
    "size = float(len(set(partitiona.values())))\n",
    "print('The best partition results in', size, 'communities')"
   ]
  },
  {
   "cell_type": "code",
   "execution_count": null,
   "metadata": {
    "collapsed": true
   },
   "outputs": [],
   "source": [
    "# Draw the partition for the best partition found (of 100 communities)\n",
    "pos = nx.spring_layout(Following_Network_undirected)\n",
    "count = 0.\n",
    "plt.figure(figsize=(15,10))\n",
    "for community in set(partition.values()):\n",
    "    count += 1.\n",
    "    list_nodes = [nodes for nodes in partition.keys()\n",
    "                                if partition[nodes] == community]\n",
    "    nx.draw_networkx_nodes(Following_Network_undirected, pos, list_nodes, node_size = 20,\n",
    "                                node_color = str(count / size))\n",
    "nx.draw_networkx_edges(Following_Network_undirected, pos, alpha=0.5)\n",
    "plt.show()\n",
    "savefig('community_partition.png', bbox_inches='tight')"
   ]
  },
  {
   "cell_type": "code",
   "execution_count": 33,
   "metadata": {},
   "outputs": [
    {
     "ename": "AttributeError",
     "evalue": "'list' object has no attribute 'generate_dendrogram'",
     "output_type": "error",
     "traceback": [
      "\u001b[1;31m----------------------------------------------------------------------\u001b[0m",
      "\u001b[1;31mAttributeError\u001b[0m                       Traceback (most recent call last)",
      "\u001b[1;32m<ipython-input-33-4de413c76d75>\u001b[0m in \u001b[0;36m<module>\u001b[1;34m()\u001b[0m\n\u001b[0;32m      1\u001b[0m \u001b[1;31m# Draw a dendrogram of the GitHub communities\u001b[0m\u001b[1;33m\u001b[0m\u001b[1;33m\u001b[0m\u001b[0m\n\u001b[1;32m----> 2\u001b[1;33m \u001b[0mdendrogram\u001b[0m \u001b[1;33m=\u001b[0m \u001b[0mcommunity\u001b[0m\u001b[1;33m.\u001b[0m\u001b[0mgenerate_dendrogram\u001b[0m\u001b[1;33m(\u001b[0m\u001b[0mFollowing_Network_undirected\u001b[0m\u001b[1;33m,\u001b[0m \u001b[0mpart_init\u001b[0m\u001b[1;33m=\u001b[0m\u001b[0mpartition\u001b[0m\u001b[1;33m)\u001b[0m\u001b[1;33m\u001b[0m\u001b[0m\n\u001b[0m",
      "\u001b[1;31mAttributeError\u001b[0m: 'list' object has no attribute 'generate_dendrogram'"
     ]
    }
   ],
   "source": [
    "# Draw a dendrogram of the GitHub communities \n",
    "dendrogram = community.generate_dendrogram(Following_Network_undirected, part_init=partition)"
   ]
  },
  {
   "cell_type": "markdown",
   "metadata": {},
   "source": [
    "**Interpreting the communities**\n",
    "\n",
    "First lets view the number of users (the size) of each community"
   ]
  },
  {
   "cell_type": "code",
   "execution_count": 56,
   "metadata": {},
   "outputs": [
    {
     "name": "stdout",
     "output_type": "stream",
     "text": [
      "      Communities 0-24  |      Communities 25-49  |      Communities 50-74  |      Communities 75-99\n",
      "---------------------------------------------------------------------------------------------------------\n",
      "       No.       Size   |        No.       Size   |        No.       Size   |        No.       Size\n",
      "---------------------------------------------------------------------------------------------------------\n",
      "         0       3033   |         25          2   |         50          2   |         75          2\n",
      "         1        920   |         26          2   |         51          4   |         76          2\n",
      "         2       3043   |         27          4   |         52          2   |         77          2\n",
      "         3        810   |         28         11   |         53          2   |         78          2\n",
      "         4       2424   |         29          2   |         54          3   |         79          2\n",
      "         5        543   |         30          3   |         55          2   |         80          2\n",
      "         6        218   |         31          2   |         56          3   |         81          2\n",
      "         7       4365   |         32          2   |         57          2   |         82          2\n",
      "         8        779   |         33          2   |         58          2   |         83          2\n",
      "         9       1321   |         34          2   |         59          2   |         84          2\n",
      "        10       5332   |         35          2   |         60          2   |         85          2\n",
      "        11        153   |         36          2   |         61          3   |         86          2\n",
      "        12        107   |         37          2   |         62          2   |         87          3\n",
      "        13         76   |         38          2   |         63          2   |         88          2\n",
      "        14        209   |         39          2   |         64          2   |         89          3\n",
      "        15        509   |         40          2   |         65          2   |         90          2\n",
      "        16        278   |         41          2   |         66          2   |         91          2\n",
      "        17          6   |         42          2   |         67          2   |         92          2\n",
      "        18          5   |         43          2   |         68          2   |         93          2\n",
      "        19         74   |         44          2   |         69          2   |         94          2\n",
      "        20          2   |         45          2   |         70          2   |         95          2\n",
      "        21          2   |         46          2   |         71          2   |         96          2\n",
      "        22         22   |         47          2   |         72          2   |         97          2\n",
      "        23          2   |         48          2   |         73          2   |         98          2\n",
      "        24          2   |         49          2   |         74          2   |         99          2\n"
     ]
    }
   ],
   "source": [
    "community_list = [[] for _ in range(int(size))]\n",
    "for k,v in partition.items():\n",
    "    community_list[v].append(k)\n",
    "print('%22s  | %22s  | %22s  | %22s' % ('Communities 0-24','Communities 25-49','Communities 50-74','Communities 75-99'))\n",
    "print('---------------------------------------------------------------------------------------------------------')\n",
    "print('%10s %10s   | %10s %10s   | %10s %10s   | %10s %10s' % ('No.','Size', 'No.','Size', 'No.','Size', 'No.','Size'))\n",
    "print('---------------------------------------------------------------------------------------------------------')\n",
    "for i in range(int(size)//4):\n",
    "    print('%10s %10s   | %10s %10s   | %10s %10s   | %10s %10s' \n",
    "          % (str(i), str(len(community_list[i])), str(i+25), str(len(community_list[i+25])),\n",
    "            str(i+50), str(len(community_list[i+50])), str(i+75), str(len(community_list[i+75]))))"
   ]
  },
  {
   "cell_type": "code",
   "execution_count": 221,
   "metadata": {},
   "outputs": [
    {
     "name": "stdout",
     "output_type": "stream",
     "text": [
      "There are 76 communities with only two or three users\n"
     ]
    }
   ],
   "source": [
    "small_communities = [i for i,community in enumerate(community_list) if len(community) in set([2,3])]\n",
    "print('There are', len(small_communities), 'communities with only two or three users')"
   ]
  },
  {
   "cell_type": "markdown",
   "metadata": {},
   "source": [
    "From inspection of this table we can see the majority of of users a classed in few large communities. Now we need to understand the differences in the communities. \n",
    "\n",
    "This  will  be  carried out by:\n",
    "1. For each community calculating how many users in the community starred each  crypto-currency\n",
    "2. Calculating how many users of the  whole network starred each crypto-currency\n",
    "3. Dividing the number of stars a crypto-currency has in a community by the number of stars the crypto-currency has in the whole network and then normalising for each group. \n",
    "4. The result is a value for each crypto-currency in each community that indicates the skews of the community. For example a value of '2.0' for group 1, crypto-currency 'Bitcoin', means the community has relativley starred the bitcoin repository twice as much compared to the whole network.\n",
    "\n",
    "This means we can detect the skews of a community towards certain crypto-currencies. "
   ]
  },
  {
   "cell_type": "code",
   "execution_count": 211,
   "metadata": {
    "collapsed": true
   },
   "outputs": [],
   "source": [
    "Stargaze_Network_undirected = Stargaze_Network.to_undirected()\n",
    "user_neighbors_dict = {}\n",
    "currencies_degree_dict = {}\n",
    "\n",
    "for node, data in Stargaze_Network.nodes(data=True):\n",
    "    if data[\"Type\"]==\"User\":\n",
    "         user_neighbors_dict[node] = list(Stargaze_Network_undirected.neighbors(node))\n",
    "    elif data[\"Type\"]==\"Currency\":\n",
    "        currencies_degree_dict[node] = Stargaze_Network.degree(node)\n",
    "\n",
    "total_number_of_stars = sum(currencies_degree_dict.values())\n",
    "currencies_degree_dict = {k:v/total_number_of_stars for k,v in currencies_degree_dict.items()}"
   ]
  },
  {
   "cell_type": "code",
   "execution_count": 212,
   "metadata": {
    "collapsed": true
   },
   "outputs": [],
   "source": [
    "community_stars_compilation_dict = {i:{} for i in range(int(size))}"
   ]
  },
  {
   "cell_type": "code",
   "execution_count": 213,
   "metadata": {
    "collapsed": true
   },
   "outputs": [],
   "source": [
    "for i,community in enumerate(community_list):\n",
    "    for member in community:\n",
    "        if member in user_neighbors_dict.keys():\n",
    "            for currency in user_neighbors_dict[member]:\n",
    "                try:\n",
    "                    if name_marketcap_dict[currency] > 5000000:\n",
    "                        try:\n",
    "                            community_stars_compilation_dict[i][currency] += 1\n",
    "                        except KeyError:\n",
    "                            community_stars_compilation_dict[i][currency] = 1\n",
    "                except:\n",
    "                    pass"
   ]
  },
  {
   "cell_type": "code",
   "execution_count": 214,
   "metadata": {
    "collapsed": true
   },
   "outputs": [],
   "source": [
    "community_star_total = [sum(currency_star_dict.values()) for currency_star_dict in community_stars_compilation_dict.values()]"
   ]
  },
  {
   "cell_type": "code",
   "execution_count": 215,
   "metadata": {
    "collapsed": true
   },
   "outputs": [],
   "source": [
    "with open('./name_marketcap_dict.pickle', 'rb') as handle:\n",
    "    name_marketcap_dict = pickle.load(handle)"
   ]
  },
  {
   "cell_type": "code",
   "execution_count": 216,
   "metadata": {
    "collapsed": true
   },
   "outputs": [],
   "source": [
    "for i in community_stars_compilation_dict.keys():\n",
    "    for currency in community_stars_compilation_dict[i].keys():\n",
    "        try:\n",
    "            community_stars_compilation_dict[i][currency] = (community_stars_compilation_dict[i][currency]/community_star_total[i])/currencies_degree_dict[currency]\n",
    "        except:\n",
    "            community_stars_compilation_dict[i][currency] = None"
   ]
  },
  {
   "cell_type": "code",
   "execution_count": 220,
   "metadata": {
    "scrolled": false
   },
   "outputs": [
    {
     "name": "stdout",
     "output_type": "stream",
     "text": [
      "Community 1 (920)\n",
      "bitcoindark 9.007846829880728\n",
      "bitcoin-plus 8.107062146892655\n",
      "centurion 8.107062146892655\n",
      "exclusivecoin 5.790758676351897\n",
      "sibcoin 5.404708097928436\n",
      "bitbay 5.06691384180791\n",
      "casinocoin 5.06691384180791\n",
      "--------------------------------------------------\n",
      "Community 2 (3043)\n",
      "salus 10.347575265909501\n",
      "energycoin 5.173787632954751\n",
      "bridgecoin 5.173787632954751\n",
      "pinkcoin 5.173787632954751\n",
      "masternodecoin 5.173787632954751\n",
      "--------------------------------------------------\n",
      "Community 3 (810)\n",
      "posw-coin 13.49905926622766\n",
      "cloakcoin 6.74952963311383\n",
      "riecoin 5.999581896101181\n",
      "--------------------------------------------------\n",
      "Community 4 (2424)\n",
      "rise 7.733495014820803\n",
      "bridgecoin 7.733495014820803\n",
      "--------------------------------------------------\n",
      "Community 5 (543)\n",
      "monacoin 17.19418186659566\n",
      "centurion 14.137438423645321\n",
      "sexcoin 7.854132457580733\n",
      "--------------------------------------------------\n",
      "Community 6 (218)\n",
      "goldblocks 48.56006768189509\n",
      "karbowanec 29.136040609137055\n",
      "prizm 24.280033840947546\n",
      "monero 12.131449512625874\n",
      "mooncoin 10.40572878897752\n",
      "aeon 9.552800199717067\n",
      "digitalnote 9.398722777140986\n",
      "htmlcoin 9.10501269035533\n",
      "florincoin 8.093344613649181\n",
      "ubiq 7.284010152284264\n",
      "--------------------------------------------------\n",
      "Community 8 (779)\n",
      "rubycoin 6.067121188097881\n",
      "bitcoindark 5.730058899870221\n",
      "fedoracoin 5.157053009883199\n",
      "--------------------------------------------------\n",
      "Community 9 (1321)\n",
      "pinkcoin 14.900830737279335\n",
      "karbowanec 5.960332294911734\n",
      "--------------------------------------------------\n",
      "Community 12 (107)\n",
      "viacoin 12.370258620689656\n",
      "ubiq 9.896206896551725\n",
      "blackcoin 9.896206896551725\n",
      "factom 8.99655172413793\n",
      "auroracoin 5.997701149425287\n",
      "--------------------------------------------------\n",
      "Community 14 (209)\n",
      "leocoin 86.18318318318319\n",
      "ion 24.623766623766624\n",
      "digibyte 5.386448948948949\n",
      "--------------------------------------------------\n",
      "Community 15 (509)\n",
      "radium 12.410378378378379\n",
      "bitcoin-plus 12.410378378378379\n",
      "posw-coin 7.756486486486487\n",
      "blocknet 5.47516693163752\n",
      "lykke 5.170990990990991\n",
      "--------------------------------------------------\n",
      "Community 16 (278)\n",
      "emercoin 42.39143279172822\n",
      "minexcoin 24.22367588098755\n",
      "karbowanec 16.95657311669129\n",
      "transfercoin 12.111837940493775\n",
      "exclusivecoin 12.111837940493775\n",
      "gamecredits 10.597858197932055\n",
      "digitalnote 8.2047934435603\n",
      "memetic 7.065238798621369\n",
      "lomocoin 6.521758891035111\n",
      "mooncoin 6.055918970246887\n",
      "--------------------------------------------------\n"
     ]
    }
   ],
   "source": [
    "for i in range(len(community_stars_compilation_dict)):\n",
    "    if i not in set(small_communities):\n",
    "        \n",
    "        temp = []\n",
    "        for k,v in community_stars_compilation_dict[i].items():\n",
    "            if v is not None and float(v) > 5:\n",
    "                temp.append((k,float(v)))\n",
    "        if len(temp) > 0 and len(community_list[i]) > 100:\n",
    "            print('Community', i, '('+str(len(community_list[i]))+')')\n",
    "            for k,v in sorted(temp,key=lambda x: x[1],  reverse=True)[:10]:\n",
    "                print(k,v)\n",
    "            print('--------------------------------------------------')"
   ]
  },
  {
   "cell_type": "markdown",
   "metadata": {},
   "source": [
    "## 2.2 Summary statistics and basic properties of the network\n",
    "\n",
    "After collecting all our data, we can start looking into it. First, we need an overview of how big our network is:"
   ]
  },
  {
   "cell_type": "code",
   "execution_count": null,
   "metadata": {
    "collapsed": true
   },
   "outputs": [],
   "source": []
  },
  {
   "cell_type": "code",
   "execution_count": 60,
   "metadata": {},
   "outputs": [
    {
     "name": "stdout",
     "output_type": "stream",
     "text": [
      "Total number of currencies: 390\n",
      "Total number of users: 40821\n",
      "Total number of stars: 57462\n",
      "Total number of follows: 0\n"
     ]
    }
   ],
   "source": [
    "# Number uf users and currencies\n",
    "users = []\n",
    "currencies = []\n",
    "for node, data in Stargaze_Network.nodes(data=True):\n",
    "    if data[\"Type\"]==\"User\":\n",
    "        users.append(node)\n",
    "    elif data[\"Type\"]==\"Currency\":\n",
    "        currencies.append(node)\n",
    "        \n",
    "gazes = []\n",
    "following = []\n",
    "for user, destination, data in Stargaze_Network.edges(data=True):\n",
    "    if data[\"Type\"] == \"gazes\":\n",
    "        gazes.append(node)\n",
    "    elif data[\"Type\"] == \"following\":\n",
    "        following.append(node)        \n",
    "\n",
    "print(\"Total number of currencies:\", len(currencies))\n",
    "print(\"Total number of users:\", len(users))\n",
    "print(\"Total number of stars:\", len(gazes))\n",
    "print(\"Total number of follows:\", len(following))"
   ]
  },
  {
   "cell_type": "markdown",
   "metadata": {
    "collapsed": true
   },
   "source": [
    "The number of users is (obviously) much higher than the number of currencies. \n",
    "\n",
    "We now want to talk about degrees in the network. Therefore we look at the node types separately. We will start with the users:"
   ]
  },
  {
   "cell_type": "code",
   "execution_count": null,
   "metadata": {
    "collapsed": true
   },
   "outputs": [],
   "source": [
    "# Out-degree of users\n",
    "users_out = Stargaze_Network.out_degree(users)\n",
    "\n",
    "users_deg = [d[1] for d in users_out]\n",
    "\n",
    "# Mean stargazing degree\n",
    "print(\"Mean stargazing degree:\", np.mean(users_deg))\n",
    "\n",
    "# Plot stargazing distribution\n",
    "fig = plt.figure(figsize=(16,9))\n",
    "plt.hist(users_deg, bins=max(users_deg))\n",
    "plt.title(\"User stargazing degree distribution\")\n",
    "plt.xlabel(\"Degree\")\n",
    "plt.ylabel(\"Count\")\n",
    "plt.show()\n",
    "\n",
    "# Top stargazers:\n",
    "top_stargazers = sorted(users_out, key=lambda x: x[1], reverse=True)[:5]\n",
    "print(\"Top stargazers:\")\n",
    "for x in top_stargazers:\n",
    "    print(str(x[0])+\": \"+str(x[1])+ \" followings\")"
   ]
  },
  {
   "cell_type": "markdown",
   "metadata": {},
   "source": [
    "Most users follow only one currency, but some follow more than one, resulting in a power-law distribution. Users are on average subscribed to 1.4 currencies. The maximum number of currencies stargazed is 43 (\"followtheart\").\n",
    "\n",
    "Next, we do the same for the in-degree of the currencies:"
   ]
  },
  {
   "cell_type": "code",
   "execution_count": null,
   "metadata": {
    "collapsed": true
   },
   "outputs": [],
   "source": [
    "# In-degrees of currencies\n",
    "curr_in = Stargaze_Network.in_degree(currencies)\n",
    "\n",
    "# Degrees only\n",
    "curr_deg = [d[1] for d in curr_in]\n",
    "\n",
    "# Mean currency degree\n",
    "print(\"Mean currency degree:\", np.mean(curr_deg))\n",
    "print(\"Median currency degree:\", np.median(curr_deg))\n",
    "\n",
    "# Make Histogram\n",
    "fig = plt.figure(figsize=(16,9))\n",
    "plt.hist(curr_deg, bins=50)\n",
    "plt.title(\"Currency degree distribution\")\n",
    "plt.xlabel(\"Degree\")\n",
    "plt.ylabel(\"Count\")\n",
    "plt.show()\n",
    "\n",
    "# Top currencies:\n",
    "top_currencies = sorted(curr_in, key=lambda x: x[1], reverse=True)[:5]\n",
    "print(\"Top currencies:\")\n",
    "for x in top_currencies:\n",
    "    print(str(x[0])+\": \"+str(x[1])+ \" followings\")"
   ]
  },
  {
   "cell_type": "markdown",
   "metadata": {},
   "source": [
    "For currencies, we have an even steeper power-law distribution of degrees. Most currencies have only very few stargazers, while only a few eclipse the 1000 stargazers mark. Unsurprisingly, bitcoin takes the cake with nearly 20000 stargazers, followed by the second most popular currency, ethereum. On average, a currency has about 147 stargazers. This is influenced heavily by the big currencies though (The median is at only 6 subscribers)."
   ]
  },
  {
   "cell_type": "markdown",
   "metadata": {},
   "source": [
    "After this first analysis, we can dig deeper into certain aspects of the cryptocurrency github commumnity:"
   ]
  },
  {
   "cell_type": "code",
   "execution_count": null,
   "metadata": {
    "collapsed": true
   },
   "outputs": [],
   "source": []
  }
 ],
 "metadata": {
  "kernelspec": {
   "display_name": "Python 3",
   "language": "python",
   "name": "python3"
  },
  "language_info": {
   "codemirror_mode": {
    "name": "ipython",
    "version": 3
   },
   "file_extension": ".py",
   "mimetype": "text/x-python",
   "name": "python",
   "nbconvert_exporter": "python",
   "pygments_lexer": "ipython3",
   "version": "3.6.3"
  }
 },
 "nbformat": 4,
 "nbformat_minor": 2
}
