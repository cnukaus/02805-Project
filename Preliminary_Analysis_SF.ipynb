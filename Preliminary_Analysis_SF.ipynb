{
 "cells": [
  {
   "cell_type": "code",
   "execution_count": 62,
   "metadata": {},
   "outputs": [],
   "source": [
    "from github import Github\n",
    "import networkx as nx\n",
    "import pickle\n",
    "from operator import itemgetter\n",
    "import numpy as np\n",
    "import community\n",
    "import community\n",
    "import matplotlib.pyplot as plt"
   ]
  },
  {
   "cell_type": "code",
   "execution_count": 45,
   "metadata": {
    "scrolled": true
   },
   "outputs": [],
   "source": [
    "# Object type: Dictionary\n",
    "# Key: Name of crypto currency (eg 'bitcoin', 'ethereum')\n",
    "# Value: List of PyGitHub user objects of users who stared the repo\n",
    "# PyGitHub Repo Object docs: http://pygithub.readthedocs.io/en/latest/github_objects/NamedUser.html\n",
    "with open(r'./crypto_stargazers_dict.pickle', 'rb') as handle:\n",
    "    crypto_stargazers_dict = pickle.load(handle)"
   ]
  },
  {
   "cell_type": "code",
   "execution_count": 46,
   "metadata": {},
   "outputs": [],
   "source": [
    "# Object type: Dictionary\n",
    "# Key: Name of crypto currency (eg 'bitcoin', 'ethereum')\n",
    "# Value: PyGitHub repo objects\n",
    "# PyGitHub User Object docs: http://pygithub.readthedocs.io/en/latest/github_objects/Repository.html\n",
    "with open(r'./crypto_repo_dict.pickle', \"rb\") as handle:\n",
    "    crypto_repo_dict = pickle.load(handle)"
   ]
  },
  {
   "cell_type": "code",
   "execution_count": 47,
   "metadata": {},
   "outputs": [],
   "source": [
    "# Object type: NetworkX Graph\n",
    "# Nodes\n",
    "#   Type 1) Name of crypto-currency (eg 'bitcoin', 'ethereum')\n",
    "#   Type 2) Github usernames of people who starred crypto - repositories (eg johannesostner, shasafoster)\n",
    "# Edges\n",
    "#   There is an edge between a user and a repo if the user starred the repo\n",
    "with open(r'./G.pickle', 'rb') as handle:\n",
    "    G = pickle.load(handle)"
   ]
  },
  {
   "cell_type": "code",
   "execution_count": 51,
   "metadata": {},
   "outputs": [
    {
     "name": "stdout",
     "output_type": "stream",
     "text": [
      "There are 41139 total nodes in our graph\n",
      "There are 395 valid crypto-currency repository nodes in our graph\n",
      "There are 57459 edges in our graph\n"
     ]
    }
   ],
   "source": [
    "print('There are ' + str(len(G.nodes())) + ' total nodes in our graph')\n",
    "print('There are ' + str(len(crypto_stargazers_dict)) + ' valid crypto-currency repository nodes in our graph')\n",
    "print('There are ' + str(len(G.edges())) + ' edges in our graph')"
   ]
  },
  {
   "cell_type": "markdown",
   "metadata": {},
   "source": [
    "Find the maximum and minium degree"
   ]
  },
  {
   "cell_type": "code",
   "execution_count": 32,
   "metadata": {},
   "outputs": [
    {
     "name": "stdout",
     "output_type": "stream",
     "text": [
      "Crypto-currency with highest degree (19193) is bitcoin\n",
      "Crypto-currency with lowest degree (1) is ELLIOTTCABLE\n"
     ]
    }
   ],
   "source": [
    "degree_list = G.degree()\n",
    "max_degree = max(degree_list, key=itemgetter(1))\n",
    "min_degree = min(degree_list, key=itemgetter(1))\n",
    "print('Crypto-currency with highest degree (' + str(max_degree[1]) + ') is ' + max_degree[0])\n",
    "print('Crypto-currency with lowest degree (' + str(min_degree[1]) + ') is ' + min_degree[0])"
   ]
  },
  {
   "cell_type": "markdown",
   "metadata": {},
   "source": [
    "Inspect the community structure of the network"
   ]
  },
  {
   "cell_type": "code",
   "execution_count": 64,
   "metadata": {},
   "outputs": [],
   "source": []
  },
  {
   "cell_type": "code",
   "execution_count": 66,
   "metadata": {},
   "outputs": [
    {
     "data": {
      "image/png": "[encoded data removed]",
      "text/plain": [
       "<matplotlib.figure.Figure at 0x2e50a8f9780>"
      ]
     },
     "metadata": {},
     "output_type": "display_data"
    }
   ],
   "source": [
    "# first compute the best partition\n",
    "from community import community_louvain\n",
    "partition = community_louvain.best_partition(G)\n",
    "\n",
    "#drawing\n",
    "size = float(len(set(partition.values())))\n",
    "pos = nx.spring_layout(G)\n",
    "count = 0.\n",
    "for com in set(partition.values()) :\n",
    "    count = count + 1.\n",
    "    list_nodes = [nodes for nodes in partition.keys()\n",
    "                                if partition[nodes] == com]\n",
    "    nx.draw_networkx_nodes(G, pos, list_nodes, node_size = 20,\n",
    "                                node_color = str(count / size))\n",
    "\n",
    "\n",
    "nx.draw_networkx_edges(G, pos, alpha=0.5)\n",
    "plt.show()"
   ]
  },
  {
   "cell_type": "code",
   "execution_count": null,
   "metadata": {},
   "outputs": [],
   "source": []
  }
 ],
 "metadata": {
  "kernelspec": {
   "display_name": "Python 3",
   "language": "python",
   "name": "python3"
  },
  "language_info": {
   "codemirror_mode": {
    "name": "ipython",
    "version": 3
   },
   "file_extension": ".py",
   "mimetype": "text/x-python",
   "name": "python",
   "nbconvert_exporter": "python",
   "pygments_lexer": "ipython3",
   "version": "3.6.3"
  }
 },
 "nbformat": 4,
 "nbformat_minor": 2
}
