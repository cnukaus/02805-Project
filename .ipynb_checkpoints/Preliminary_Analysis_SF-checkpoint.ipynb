{
 "cells": [
  {
   "cell_type": "code",
   "execution_count": 43,
   "metadata": {},
   "outputs": [],
   "source": [
    "from github import Github\n",
    "import networkx as nx\n",
    "import pickle\n",
    "from operator import itemgetter\n",
    "import numpy as np\n",
    "import community"
   ]
  },
  {
   "cell_type": "code",
   "execution_count": 45,
   "metadata": {
    "scrolled": true
   },
   "outputs": [],
   "source": [
    "# Object type: Dictionary\n",
    "# Key: Name of crypto currency (eg 'bitcoin', 'ethereum')\n",
    "# Value: List of PyGitHub user objects of users who stared the repo\n",
    "# PyGitHub Repo Object docs: http://pygithub.readthedocs.io/en/latest/github_objects/NamedUser.html\n",
    "with open(r'./crypto_stargazers_dict.pickle', 'rb') as handle:\n",
    "    crypto_stargazers_dict = pickle.load(handle)"
   ]
  },
  {
   "cell_type": "code",
   "execution_count": 46,
   "metadata": {},
   "outputs": [],
   "source": [
    "# Object type: Dictionary\n",
    "# Key: Name of crypto currency (eg 'bitcoin', 'ethereum')\n",
    "# Value: PyGitHub repo objects\n",
    "# PyGitHub User Object docs: http://pygithub.readthedocs.io/en/latest/github_objects/Repository.html\n",
    "with open(r'./crypto_repo_dict.pickle', \"rb\") as handle:\n",
    "    crypto_repo_dict = pickle.load(handle)"
   ]
  },
  {
   "cell_type": "code",
   "execution_count": 47,
   "metadata": {},
   "outputs": [],
   "source": [
    "# Object type: NetwrokX Graph\n",
    "# Nodes\n",
    "#   Type 1) Name of crypto-currency (eg 'bitcoin', 'ethereum')\n",
    "#   Type 2) Github usernames of people who starred crypto - repositories (eg johannesostner, shasafoster)\n",
    "# Edges\n",
    "#   There is an edge between a user and a repo if the user starred the repo\n",
    "with open(r'./G.pickle', 'rb') as handle:\n",
    "    G = pickle.load(handle)"
   ]
  },
  {
   "cell_type": "code",
   "execution_count": 48,
   "metadata": {},
   "outputs": [
    {
     "name": "stdout",
     "output_type": "stream",
     "text": [
      "There are 395 valid crypto-currency repository nodes in our graph\n",
      "There are 41139 GitHub user nodes in our graph\n",
      "There are 57459 edges in our graph\n"
     ]
    }
   ],
   "source": [
    "print('There are 395 valid crypto-currency repository nodes in our graph')\n",
    "print('There are ' + str(len(G.nodes())) + ' total nodes in our graph')\n",
    "print('There are ' + str(len(G.edges())) + ' edges in our graph')"
   ]
  },
  {
   "cell_type": "markdown",
   "metadata": {},
   "source": [
    "Find the maximum and minium degree"
   ]
  },
  {
   "cell_type": "code",
   "execution_count": 32,
   "metadata": {},
   "outputs": [
    {
     "name": "stdout",
     "output_type": "stream",
     "text": [
      "Crypto-currency with highest degree (19193) is bitcoin\n",
      "Crypto-currency with lowest degree (1) is ELLIOTTCABLE\n"
     ]
    }
   ],
   "source": [
    "degree_list = G.degree()\n",
    "max_degree = max(degree_list, key=itemgetter(1))\n",
    "min_degree = min(degree_list, key=itemgetter(1))\n",
    "print('Crypto-currency with highest degree (' + str(max_degree[1]) + ') is ' + max_degree[0])\n",
    "print('Crypto-currency with lowest degree (' + str(min_degree[1]) + ') is ' + min_degree[0])"
   ]
  },
  {
   "cell_type": "markdown",
   "metadata": {},
   "source": [
    "Inspect the community structure of the network"
   ]
  },
  {
   "cell_type": "code",
   "execution_count": 39,
   "metadata": {},
   "outputs": [
    {
     "ename": "AttributeError",
     "evalue": "module 'community' has no attribute 'best_partition'",
     "output_type": "error",
     "traceback": [
      "\u001b[1;31m----------------------------------------------------------------------\u001b[0m",
      "\u001b[1;31mAttributeError\u001b[0m                       Traceback (most recent call last)",
      "\u001b[1;32m<ipython-input-39-875142048b3c>\u001b[0m in \u001b[0;36m<module>\u001b[1;34m()\u001b[0m\n\u001b[1;32m----> 1\u001b[1;33m \u001b[0mcommunity_partition\u001b[0m \u001b[1;33m=\u001b[0m \u001b[1;33m[\u001b[0m\u001b[1;33m(\u001b[0m\u001b[0mk\u001b[0m\u001b[1;33m,\u001b[0m \u001b[0mv\u001b[0m\u001b[1;33m)\u001b[0m \u001b[1;32mfor\u001b[0m \u001b[0mk\u001b[0m\u001b[1;33m,\u001b[0m \u001b[0mv\u001b[0m \u001b[1;32min\u001b[0m \u001b[0mcommunity\u001b[0m\u001b[1;33m.\u001b[0m\u001b[0mbest_partition\u001b[0m\u001b[1;33m(\u001b[0m\u001b[0mG\u001b[0m\u001b[1;33m)\u001b[0m\u001b[1;33m.\u001b[0m\u001b[0miteritems\u001b[0m\u001b[1;33m(\u001b[0m\u001b[1;33m)\u001b[0m\u001b[1;33m]\u001b[0m\u001b[1;33m\u001b[0m\u001b[0m\n\u001b[0m",
      "\u001b[1;31mAttributeError\u001b[0m: module 'community' has no attribute 'best_partition'"
     ]
    }
   ],
   "source": [
    "community_partition = [(k, v) for k, v in .iteritems()]"
   ]
  },
  {
   "cell_type": "code",
   "execution_count": 40,
   "metadata": {},
   "outputs": [
    {
     "ename": "AttributeError",
     "evalue": "module 'community' has no attribute 'best_partition'",
     "output_type": "error",
     "traceback": [
      "\u001b[1;31m----------------------------------------------------------------------\u001b[0m",
      "\u001b[1;31mAttributeError\u001b[0m                       Traceback (most recent call last)",
      "\u001b[1;32m<ipython-input-40-2dedd92acc78>\u001b[0m in \u001b[0;36m<module>\u001b[1;34m()\u001b[0m\n\u001b[1;32m----> 1\u001b[1;33m \u001b[0mcommunity\u001b[0m\u001b[1;33m.\u001b[0m\u001b[0mbest_partition\u001b[0m\u001b[1;33m(\u001b[0m\u001b[0mG\u001b[0m\u001b[1;33m)\u001b[0m\u001b[1;33m\u001b[0m\u001b[0m\n\u001b[0m",
      "\u001b[1;31mAttributeError\u001b[0m: module 'community' has no attribute 'best_partition'"
     ]
    }
   ],
   "source": [
    "community.best_partition(G)"
   ]
  },
  {
   "cell_type": "code",
   "execution_count": null,
   "metadata": {},
   "outputs": [],
   "source": []
  }
 ],
 "metadata": {
  "kernelspec": {
   "display_name": "Python 3",
   "language": "python",
   "name": "python3"
  },
  "language_info": {
   "codemirror_mode": {
    "name": "ipython",
    "version": 3
   },
   "file_extension": ".py",
   "mimetype": "text/x-python",
   "name": "python",
   "nbconvert_exporter": "python",
   "pygments_lexer": "ipython3",
   "version": "3.6.3"
  }
 },
 "nbformat": 4,
 "nbformat_minor": 2
}
