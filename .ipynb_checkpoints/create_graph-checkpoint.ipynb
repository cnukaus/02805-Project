{
 "cells": [
  {
   "cell_type": "code",
   "execution_count": 1,
   "metadata": {},
   "outputs": [],
   "source": [
    "from github import Github\n",
    "import networkx as nx\n",
    "import pickle\n",
    "import random\n",
    "import urllib.request, json "
   ]
  },
  {
   "cell_type": "code",
   "execution_count": 2,
   "metadata": {},
   "outputs": [],
   "source": [
    "# Load dict of  {cryto-currencey: github-url,} eg {'bitcoin: https://github.com/bitcoin/bitcoin}\n",
    "with open('./cryptoName_gitUrl_dict.pickle', 'rb') as handle:\n",
    "    cryptoName_gitUrl_dict = pickle.load(handle)"
   ]
  },
  {
   "cell_type": "code",
   "execution_count": 3,
   "metadata": {},
   "outputs": [
    {
     "name": "stdout",
     "output_type": "stream",
     "text": [
      "Number of crypto-currencies WITH a Github repo: 423\n",
      "\n",
      "\n",
      "Example entry:\n",
      "('bitcoin', 'https://github.com/bitcoin/bitcoin')\n"
     ]
    }
   ],
   "source": [
    "print('Number of crypto-currencies WITH a Github repo: ' + str(len(cryptoName_gitUrl_dict)))\n",
    "print('')\n",
    "print('')\n",
    "print('Example entry:')\n",
    "print(list(cryptoName_gitUrl_dict.items())[-0])"
   ]
  },
  {
   "cell_type": "code",
   "execution_count": 4,
   "metadata": {},
   "outputs": [
    {
     "name": "stdout",
     "output_type": "stream",
     "text": [
      "('bitcoin', 'bitcoin/bitcoin')\n",
      "('peoplecoin', 'peopleproject/people')\n"
     ]
    }
   ],
   "source": [
    "# Convert dictionary to a lisrt of tubles for future ease of use\n",
    "# Get full name of repo (from the https url)\n",
    "cryptoName_gitUrl = [(k, v.replace('https://github.com/','')) for k, v in cryptoName_gitUrl_dict.items()]\n",
    "print(cryptoName_gitUrl[0])  # Print first \n",
    "print(cryptoName_gitUrl[-1])  # Print last"
   ]
  },
  {
   "cell_type": "markdown",
   "metadata": {},
   "source": [
    "## Now create the preliminary NetworkX graph\n",
    "\n",
    "There are two types of node\n",
    "* The names of the crypto-currencies (e.g. 'bitcoin')\n",
    "*  The GitHub users that *\"starred\"* any of the repository's in question (e.g 'random_user_123')\n",
    "\n",
    "\n",
    "There is one type of edge\n",
    "* There is an edge between a GitHub repository and the user if the starred the reposity"
   ]
  },
  {
   "cell_type": "code",
   "execution_count": 6,
   "metadata": {},
   "outputs": [],
   "source": [
    "# Add crypto-currencies names as the nodes to graph\n",
    "G = nx.Graph()\n",
    "G.add_nodes_from([crypto_name for (crypto_name, repo_name) in cryptoName_gitUrl]) "
   ]
  },
  {
   "cell_type": "markdown",
   "metadata": {},
   "source": [
    "**Get users  who stargazed each repo**"
   ]
  },
  {
   "cell_type": "code",
   "execution_count": 12,
   "metadata": {},
   "outputs": [
    {
     "name": "stdout",
     "output_type": "stream",
     "text": [
      "<github.MainClass.Github object at 0x00000124C309BB38>\n"
     ]
    }
   ],
   "source": [
    "# Use Personal Access Token\n",
    "gh = Github('9860490c5562541b51646a7f909e58e3ab420de5')"
   ]
  },
  {
   "cell_type": "code",
   "execution_count": 11,
   "metadata": {},
   "outputs": [],
   "source": [
    "# Create dictionary of the repo objects. {crypto-currences: repository object}\n",
    "crypto_repo_dict = {}\n",
    "\n",
    "\n",
    "\n",
    "for i,(crypto_name, repo_name) in enumerate(cryptoName_gitUrl):\n",
    "    stargrazers_api_url = 'https://api.github.com/repos/' + repo_name + '/stargazers'\n",
    "    with urllib.request.urlopen(stargrazers_api_url) as url:\n",
    "        data = json.loads(url.read().decode())\n",
    "        crypto_stargazers[crypto_name] = data"
   ]
  },
  {
   "cell_type": "code",
   "execution_count": 27,
   "metadata": {},
   "outputs": [
    {
     "name": "stdout",
     "output_type": "stream",
     "text": [
      "Repository(full_name=None)\n"
     ]
    }
   ],
   "source": []
  },
  {
   "cell_type": "code",
   "execution_count": null,
   "metadata": {},
   "outputs": [],
   "source": [
    "# Pickle dict to current directory \n",
    "with open('./crypto_repo_dict.pickle', 'wb') as handle:\n",
    "    pickle.dump(crypto_repo_dict, handle, protocol=pickle.HIGHEST_PROTOCOL)"
   ]
  },
  {
   "cell_type": "code",
   "execution_count": null,
   "metadata": {},
   "outputs": [],
   "source": []
  }
 ],
 "metadata": {
  "kernelspec": {
   "display_name": "Python 3",
   "language": "python",
   "name": "python3"
  },
  "language_info": {
   "codemirror_mode": {
    "name": "ipython",
    "version": 3
   },
   "file_extension": ".py",
   "mimetype": "text/x-python",
   "name": "python",
   "nbconvert_exporter": "python",
   "pygments_lexer": "ipython3",
   "version": "3.6.3"
  }
 },
 "nbformat": 4,
 "nbformat_minor": 2
}
