{
 "cells": [
  {
   "cell_type": "code",
   "execution_count": 1,
   "metadata": {
    "collapsed": true
   },
   "outputs": [],
   "source": [
    "from github import Github\n",
    "import pickle\n",
    "import time\n",
    "from itertools import groupby"
   ]
  },
  {
   "cell_type": "code",
   "execution_count": 14,
   "metadata": {},
   "outputs": [
    {
     "name": "stdout",
     "output_type": "stream",
     "text": [
      "<class 'github.MainClass.Github'>\n"
     ]
    }
   ],
   "source": [
    "# Use Personal Access Token\n",
    "gh = Github('9860490c5562541b51646a7f909e58e3ab420de5')\n",
    "print(type(gh))"
   ]
  },
  {
   "cell_type": "code",
   "execution_count": 15,
   "metadata": {},
   "outputs": [
    {
     "name": "stdout",
     "output_type": "stream",
     "text": [
      "['prusnak', 'joelburget', 'kucar', 'drag0nglass', 'fivebyfive2']\n"
     ]
    }
   ],
   "source": [
    "with open('./crypto_stargazers_dict.pickle', 'rb') as handle:\n",
    "    crypto_stargazers_dict = pickle.load(handle)\n",
    "    \n",
    "with open('./G.pickle', 'rb') as handle:\n",
    "    G = pickle.load(handle)\n",
    "users_set = set(G.nodes)\n",
    "print(list(users_set)[:5])"
   ]
  },
  {
   "cell_type": "code",
   "execution_count": 16,
   "metadata": {
    "collapsed": true
   },
   "outputs": [],
   "source": [
    "# List of lists of stargazers of each crypto-currency\n",
    "user_list_of_lists = [stargazers_list for crypto_name, stargazers_list in crypto_stargazers_dict.items()]\n",
    "# Convert lists of lists to one long list (will contain duplicates)\n",
    "flat_user_list = [user_object for user_list in user_list_of_lists for user_object in user_list]"
   ]
  },
  {
   "cell_type": "code",
   "execution_count": 17,
   "metadata": {
    "collapsed": true
   },
   "outputs": [],
   "source": [
    "login_userobject_list = [(user.login,user) for user in flat_user_list]\n",
    "login_userobject_list = list(dict(login_userobject_list).items()) # Remove duplicates"
   ]
  },
  {
   "cell_type": "code",
   "execution_count": 18,
   "metadata": {
    "collapsed": true
   },
   "outputs": [],
   "source": [
    "#with open('./login_userobject_list.pickle', 'wb') as handle:\n",
    "#    pickle.dump(login_userobject_list, handle, protocol=pickle.HIGHEST_PROTOCOL)"
   ]
  },
  {
   "cell_type": "code",
   "execution_count": 19,
   "metadata": {
    "collapsed": true
   },
   "outputs": [],
   "source": [
    "with open('./login_userobject_list.pickle', 'rb') as handle:\n",
    "    login_userobject_list = pickle.load(handle)"
   ]
  },
  {
   "cell_type": "code",
   "execution_count": 20,
   "metadata": {},
   "outputs": [
    {
     "name": "stdout",
     "output_type": "stream",
     "text": [
      "Number of unique users:  40825\n"
     ]
    }
   ],
   "source": [
    "print('Number of unique users: ',len(login_userobject_list))"
   ]
  },
  {
   "cell_type": "code",
   "execution_count": 21,
   "metadata": {},
   "outputs": [
    {
     "name": "stdout",
     "output_type": "stream",
     "text": [
      "('ELLIOTTCABLE', NamedUser(login=\"ELLIOTTCABLE\"))\n"
     ]
    }
   ],
   "source": [
    "print(login_userobject_list[0])"
   ]
  },
  {
   "cell_type": "code",
   "execution_count": 25,
   "metadata": {
    "scrolled": true
   },
   "outputs": [
    {
     "name": "stdout",
     "output_type": "stream",
     "text": [
      "./following_dict__-1000_TO_0.pickle\n",
      "{'ELLIOTTCABLE': ['lancecarlson', 'tkersey', 'bumi', 'methodmissing', 'yrashk', 'oleganza', 'miles', 'michaelklishin', 'charlenopires', 'ashchan', 'fannar', 'smtlaissezfaire', 'beppu', 'darwin', 'arikan', 'mihael', 'manuel', 'juliangruber', 'Bluebie', 'Yuffster', 'tcurdt', 'justindz', 'jo', 'smly', 'denzuko', 'danil', 'avelino', 'robeastham', 'why404', 'jackpooley', 'cloudhead', 'eligrey', 'mrrooijen', 'rmetzler', 'throughnothing', 'hakunin', 'insidegui', 'Marak', 'audy', 'kennethreitz', 'cola1129', 'mt3', 'nviennot', 'sneak', 'jalcine', 'chjj', 'jescalan', 'montonero', 'khalahan', 'nayafia']}\n",
      "i:  0   | Runtime:  16.678393125534058\n",
      "./following_dict__-999_TO_1.pickle\n",
      "{'methodmissing': ['ELLIOTTCABLE', 'gnufied', 'bumi', 'norbert', 'Roman2K', 'smtlaissezfaire', 'mrkn', 'ryan-allen', 'igrigorik', 'caseyhelbling', 'bai', 'erubboli', 'stonegao', 'gvlx']}\n",
      "i:  1   | Runtime:  22.633540868759155\n",
      "./following_dict__-998_TO_2.pickle\n",
      "{'oleganza': ['yrashk', 'michaelklishin', 'davout', 'mikegogulski', 'zootreeves']}\n",
      "i:  2   | Runtime:  24.382451057434082\n",
      "./following_dict__-997_TO_3.pickle\n",
      "{'lukehoersten': []}\n",
      "i:  3   | Runtime:  25.631378650665283\n",
      "./following_dict__-996_TO_4.pickle\n",
      "{'hotsyk': ['yrashk', 'michaelklishin', 'ericflo', '42', 'kennethreitz', 'shalakhin', 'paulmillr', 'speedygonzalez', 'dotcypress']}\n",
      "i:  4   | Runtime:  28.960558652877808\n"
     ]
    }
   ],
   "source": [
    "t_start = time.time()\n",
    "following_dict = {}\n",
    "\n",
    "for i,(login, user_object) in enumerate(login_userobject_list):\n",
    "    # Adds the users followers and following into dicts. The key is the the users login\n",
    "    following_dict[login] = [follower.login for follower in gh.get_user(user_object.login).get_following() if follower.login in users_set]\n",
    "\n",
    "    # Pickle \"following_dict\" every 1000 users\n",
    "    if i in range(1000,40825,1000) or i == 40824:\n",
    "        filename = './' + 'following_dict' + '__' + str(i-1000) + '_TO_' + str(i) + '.pickle'\n",
    "        with open(filename, 'wb') as handle:\n",
    "            pickle.dump(following_dict, handle, protocol=pickle.HIGHEST_PROTOCOL)\n",
    "        print(filename)\n",
    "        following_dict = {}\n",
    "        now = time.time()\n",
    "        print('i: ', i, '  | Runtime: ', now-t_start)"
   ]
  },
  {
   "cell_type": "code",
   "execution_count": null,
   "metadata": {
    "collapsed": true
   },
   "outputs": [],
   "source": [
    "filename = ''./following_dict__-1000_TO_0.pickle'\n",
    "with open(filename, 'rrb') as handle:\n",
    "    x = pickle.load(handle)\n",
    "print(x)"
   ]
  },
  {
   "cell_type": "code",
   "execution_count": null,
   "metadata": {
    "collapsed": true
   },
   "outputs": [],
   "source": []
  }
 ],
 "metadata": {
  "kernelspec": {
   "display_name": "Python 3",
   "language": "python",
   "name": "python3"
  },
  "language_info": {
   "codemirror_mode": {
    "name": "ipython",
    "version": 3
   },
   "file_extension": ".py",
   "mimetype": "text/x-python",
   "name": "python",
   "nbconvert_exporter": "python",
   "pygments_lexer": "ipython3",
   "version": "3.6.3"
  }
 },
 "nbformat": 4,
 "nbformat_minor": 2
}
