{
 "cells": [
  {
   "cell_type": "code",
   "execution_count": 4,
   "metadata": {
    "collapsed": true
   },
   "outputs": [],
   "source": [
    "from github import Github"
   ]
  },
  {
   "cell_type": "code",
   "execution_count": 19,
   "metadata": {
    "collapsed": true
   },
   "outputs": [],
   "source": [
    "# Use Personal Access Token\n",
    "gh = Github('9860490c5562541b51646a7f909e58e3ab420de5')"
   ]
  },
  {
   "cell_type": "code",
   "execution_count": 34,
   "metadata": {
    "collapsed": true
   },
   "outputs": [],
   "source": [
    "search = gh.search_repositories('blockchain')"
   ]
  },
  {
   "cell_type": "code",
   "execution_count": 32,
   "metadata": {
    "collapsed": true
   },
   "outputs": [],
   "source": [
    "result = list(search)"
   ]
  },
  {
   "cell_type": "code",
   "execution_count": 35,
   "metadata": {},
   "outputs": [
    {
     "name": "stdout",
     "output_type": "stream",
     "text": [
      "Number of results:1020\n"
     ]
    }
   ],
   "source": [
    "print 'Number of results: ' + str(len(result))"
   ]
  },
  {
   "cell_type": "code",
   "execution_count": 37,
   "metadata": {},
   "outputs": [
    {
     "name": "stdout",
     "output_type": "stream",
     "text": [
      "Repository(full_name=\"bitcoin/bitcoin\")\n",
      "Repository(full_name=\"bisq-network/exchange\")\n",
      "Repository(full_name=\"bitcoinbook/bitcoinbook\")\n",
      "Repository(full_name=\"richox/okcoin-leeks-reaper\")\n",
      "Repository(full_name=\"bitcoin-core/bitcoincore.org\")\n",
      "Repository(full_name=\"bitcoinj/bitcoinj\")\n",
      "Repository(full_name=\"bitcoin-dot-org/bitcoin.org\")\n",
      "Repository(full_name=\"phishman3579/Bitcoin\")\n",
      "Repository(full_name=\"askmike/gekko\")\n",
      "Repository(full_name=\"lucasjones/cpuminer-multi\")\n"
     ]
    }
   ],
   "source": [
    "for repo in result[:10]:\n",
    "    print repo"
   ]
  },
  {
   "cell_type": "code",
   "execution_count": 50,
   "metadata": {},
   "outputs": [
    {
     "name": "stdout",
     "output_type": "stream",
     "text": [
      "Repository(full_name=\"coinspark/python-OP_RETURN\")\n"
     ]
    },
    {
     "data": {
      "text/plain": [
       "github.Repository.Repository"
      ]
     },
     "execution_count": 50,
     "metadata": {},
     "output_type": "execute_result"
    }
   ],
   "source": [
    "repo = result[-1]\n",
    "print repo\n",
    "type(repo)"
   ]
  },
  {
   "cell_type": "code",
   "execution_count": 55,
   "metadata": {},
   "outputs": [
    {
     "name": "stdout",
     "output_type": "stream",
     "text": [
      "[NamedUser(login=\"romanix\"), NamedUser(login=\"heavyengineer\"), NamedUser(login=\"jonasbits\"), NamedUser(login=\"shayanb\"), NamedUser(login=\"emeth-\"), NamedUser(login=\"rsmoz\"), NamedUser(login=\"jyap808\"), NamedUser(login=\"arhuaco\"), NamedUser(login=\"iYalovoy\"), NamedUser(login=\"iinstances\")]\n"
     ]
    }
   ],
   "source": [
    "# Users who have starred the rep\n",
    "print list(repo.get_stargazers())[:10]"
   ]
  },
  {
   "cell_type": "code",
   "execution_count": 57,
   "metadata": {},
   "outputs": [
    {
     "name": "stdout",
     "output_type": "stream",
     "text": [
      "[<github.StatsContributor.StatsContributor object at 0x000000000B9DC1D0>]\n"
     ]
    }
   ],
   "source": [
    "# Users who have contributed to the repo\n",
    "print list(repo.get_stats_contributors())[:10]"
   ]
  },
  {
   "cell_type": "code",
   "execution_count": 60,
   "metadata": {},
   "outputs": [
    {
     "name": "stdout",
     "output_type": "stream",
     "text": [
      "[<github.StatsCommitActivity.StatsCommitActivity object at 0x000000000E85C780>, <github.StatsCommitActivity.StatsCommitActivity object at 0x000000000E85C748>, <github.StatsCommitActivity.StatsCommitActivity object at 0x000000000E85C400>, <github.StatsCommitActivity.StatsCommitActivity object at 0x000000000E85C5F8>, <github.StatsCommitActivity.StatsCommitActivity object at 0x000000000E85C7B8>, <github.StatsCommitActivity.StatsCommitActivity object at 0x000000000E85C6D8>, <github.StatsCommitActivity.StatsCommitActivity object at 0x000000000E85C828>, <github.StatsCommitActivity.StatsCommitActivity object at 0x000000000E85C438>, <github.StatsCommitActivity.StatsCommitActivity object at 0x000000000E85C4E0>, <github.StatsCommitActivity.StatsCommitActivity object at 0x000000000E85CC88>]\n"
     ]
    }
   ],
   "source": [
    "# Commit activity\n",
    "print list(repo.get_stats_commit_activity())[:10]"
   ]
  },
  {
   "cell_type": "code",
   "execution_count": null,
   "metadata": {
    "collapsed": true
   },
   "outputs": [],
   "source": []
  }
 ],
 "metadata": {
  "kernelspec": {
   "display_name": "Python 3",
   "language": "python",
   "name": "python3"
  },
  "language_info": {
   "codemirror_mode": {
    "name": "ipython",
    "version": 3
   },
   "file_extension": ".py",
   "mimetype": "text/x-python",
   "name": "python",
   "nbconvert_exporter": "python",
   "pygments_lexer": "ipython3",
   "version": "3.6.3"
  }
 },
 "nbformat": 4,
 "nbformat_minor": 1
}
