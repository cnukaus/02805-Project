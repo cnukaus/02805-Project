{
 "cells": [
  {
   "cell_type": "code",
   "execution_count": 7,
   "metadata": {
    "collapsed": true
   },
   "outputs": [],
   "source": [
    "from github import Github\n",
    "import networkx as nx\n",
    "import pickle\n",
    "import random\n",
    "import json\n",
    "import numpy as np\n",
    "import matplotlib.pyplot as plt \n",
    "import re"
   ]
  },
  {
   "cell_type": "markdown",
   "metadata": {},
   "source": [
    "# Graph Setup"
   ]
  },
  {
   "cell_type": "code",
   "execution_count": 5,
   "metadata": {
    "collapsed": true
   },
   "outputs": [],
   "source": [
    "with open('./G.pickle', 'rb') as handle:\n",
    "    G = pickle.load(handle)"
   ]
  },
  {
   "cell_type": "markdown",
   "metadata": {},
   "source": [
    "Make a directed graph out of it with node types \"user\" and \"Project\""
   ]
  },
  {
   "cell_type": "code",
   "execution_count": 27,
   "metadata": {},
   "outputs": [],
   "source": [
    "with open('./crypto_stargazers_dict.pickle', 'rb') as handle:\n",
    "    crypto_stargazers_dict = pickle.load(handle)\n",
    "    \n",
    "Stargaze_Network = nx.DiGraph()\n",
    "\n",
    "# Setup network as Digraph with User -> CC\n",
    "for crypto_name, stargazers_list in crypto_stargazers_dict.items():\n",
    "    for user in stargazers_list:\n",
    "        if user.login not in Stargaze_Network.nodes():\n",
    "            Stargaze_Network.add_node(user.login, Type=\"User\")\n",
    "        if crypto_name not in Stargaze_Network.nodes():\n",
    "            Stargaze_Network.add_node(crypto_name, Type=\"Currency\")\n",
    "        Stargaze_Network.add_edge(user.login, crypto_name, type=\"gazes\")\n"
   ]
  },
  {
   "cell_type": "markdown",
   "metadata": {},
   "source": [
    "# Analysis of basic properties\n",
    "\n",
    "Summary stats"
   ]
  },
  {
   "cell_type": "code",
   "execution_count": 29,
   "metadata": {},
   "outputs": [
    {
     "name": "stdout",
     "output_type": "stream",
     "text": [
      "Total number of currencies: 317\n",
      "Total number of users: 40822\n"
     ]
    }
   ],
   "source": [
    "# Number uf users and currencies\n",
    "users = []\n",
    "currencies = []\n",
    "for node, data in Stargaze_Network.nodes(data=True):\n",
    "    if data[\"Type\"]==\"User\":\n",
    "        users.append(node)\n",
    "    else:\n",
    "        currencies.append(node)\n",
    "    \n",
    "\n",
    "print(\"Total number of currencies:\", len(currencies))\n",
    "print(\"Total number of users:\", len(users))"
   ]
  },
  {
   "cell_type": "code",
   "execution_count": 62,
   "metadata": {},
   "outputs": [
    {
     "name": "stdout",
     "output_type": "stream",
     "text": [
      "[32250  5347  1599   669   338   223   109    82    40    42    30    24\n",
      "    20     6     7    10     5     6     3     2     2     0     0     1\n",
      "     1     0     2     0     0     0     0     1     0     0     0     0\n",
      "     0     1     0     1     0     0     1]\n"
     ]
    },
    {
     "data": {
      "image/png": "[encoded data removed]",
      "text/plain": [
       "<matplotlib.figure.Figure at 0x2786d532e80>"
      ]
     },
     "metadata": {},
     "output_type": "display_data"
    },
    {
     "data": {
      "image/png": "[encoded data removed]",
      "text/plain": [
       "<matplotlib.figure.Figure at 0x27897110dd8>"
      ]
     },
     "metadata": {},
     "output_type": "display_data"
    }
   ],
   "source": [
    "# Out-degree of users\n",
    "users_out = Stargaze_Network.out_degree(users)\n",
    "\n",
    "# Degrees only\n",
    "users_deg = [d[1] for d in users_out]\n",
    "\n",
    "# Make Histogram\n",
    "users_hist, users_bin = np.histogram(users_deg, bins=max(users_deg))\n",
    "print(users_hist)\n",
    "\n",
    "plt.plot([x+1 for x in range(max(users_deg))], users_hist)\n",
    "plt.show()\n",
    "\n",
    "plt.hist(users_deg, bins=max(users_deg))\n",
    "plt.show()"
   ]
  },
  {
   "cell_type": "markdown",
   "metadata": {},
   "source": [
    "This distribution follows a heavy power law. Many users only follow 1 or 2 currencies, the max is 43."
   ]
  },
  {
   "cell_type": "code",
   "execution_count": 64,
   "metadata": {},
   "outputs": [
    {
     "name": "stdout",
     "output_type": "stream",
     "text": [
      "[('bitcoin', 19193), ('ethereum', 8883), ('bitcoin-cash', 280), ('ripple', 1663), ('litecoin', 1932), ('dash', 665), ('neo', 1059), ('monero', 1417), ('iota', 578), ('ethereum-classic', 169), ('lisk', 1276), ('qtum', 369), ('zcash', 2980), ('hshare', 61), ('cardano', 406), ('bitconnect', 59), ('waves', 275), ('stratis', 50), ('ark', 65), ('steem', 648), ('bitshares', 422), ('komodo', 38), ('bytecoin', 219), ('decred', 163), ('vertcoin', 125), ('pivx', 140), ('monacoin', 111), ('factom', 88), ('dogecoin', 1398), ('bitcoindark', 18), ('siacoin', 1755), ('syscoin', 40), ('gamecredits', 8), ('blocknet', 34), ('lykke', 12), ('verge', 118), ('gxshares', 35), ('digibyte', 127), ('pura', 6), ('zcoin', 173), ('particl', 37), ('zencash', 60), ('nexus', 45), ('faircoin', 32), ('nav-coin', 26), ('bitdeal', 26), ('ubiq', 40), ('counterparty', 215), ('nolimitcoin', 3), ('peercoin', 314), ('bitbay', 8), ('okcash', 154), ('groestlcoin', 6), ('viacoin', 32), ('gulden', 56), ('reddcoin', 169), ('achain', 39), ('cloakcoin', 8), ('rise', 2), ('bitcore', 12), ('emercoin', 2), ('leocoin', 2), ('potcoin', 15), ('skycoin', 225), ('aeon', 122), ('lbry-credits', 3549), ('einsteinium', 1), ('diamond', 5), ('namecoin', 215), ('sibcoin', 15), ('feathercoin', 87), ('minexcoin', 7), ('ion', 7), ('raiblocks', 94), ('rubycoin', 17), ('solarcoin', 19), ('smartcash', 11), ('expanse', 26), ('toacoin', 2), ('bitsend', 19), ('vericoin', 66), ('blackcoin', 40), ('gridcoin', 183), ('digitalnote', 31), ('golos', 48), ('omni', 66), ('shift', 11), ('clams', 47), ('dubaicoin', 6), ('energycoin', 2), ('salus', 1), ('monetaryunit', 6), ('radium', 5), ('asch', 187), ('prizm', 6), ('whitecoin', 3), ('florincoin', 18), ('burst', 68), ('transfercoin', 7), ('centurion', 5), ('novacoin', 55), ('abjcoin', 3), ('lomocoin', 13), ('spectrecoin', 21), ('htmlcoin', 16), ('mooncoin', 14), ('unobtanium', 10), ('masternodecoin', 2), ('gambit', 134), ('bitcoin-plus', 5), ('e-dinar-coin', 5), ('pinkcoin', 2), ('heat', 8), ('bitbean', 3), ('xtrabytes', 23), ('stealthcoin', 12), ('casinocoin', 8), ('dynamic', 12), ('curecoin', 38), ('goldcoin', 13), ('sequence', 10), ('musicoin', 76), ('auroracoin', 66), ('posw-coin', 8), ('rupee', 9), ('exclusivecoin', 7), ('pesetacoin', 2), ('synergy', 21), ('bitswift', 7), ('chaincoin', 48), ('earthcoin', 9), ('newyorkcoin', 1), ('blitzcash', 19), ('evergreencoin', 6), ('syndicate', 13), ('hush', 1), ('veriumreserve', 14), ('audiocoin', 2), ('bitmark', 32), ('zclassic', 72), ('steem-dollars', 648), ('primecoin', 248), ('trustplus', 12), ('geocoin', 3), ('memetic', 12), ('breakout-stake', 5), ('bridgecoin', 4), ('2give', 5), ('sexcoin', 9), ('karbowanec', 5), ('vivo', 12), ('breakout', 5), ('deeponion', 24), ('dnotes', 2), ('mintcoin', 14), ('innova', 4), ('fedoracoin', 10), ('riecoin', 18), ('bismuth', 53), ('spreadcoin', 8), ('crave', 23), ('fimkrypto', 5), ('creativecoin', 16), ('visio', 1), ('worldcoin', 4), ('vtorrent', 21), ('cannabiscoin', 17), ('woodcoin', 2), ('magi', 17), ('startcoin', 12), ('megacoin', 24), ('luckchain', 5), ('arcticcoin', 11), ('dotcoin', 3), ('pirl', 4), ('espers', 11), ('cryptonite', 20), ('renos', 6), ('trezarcoin', 11), ('bitcoinz', 18), ('unitus', 4), ('signatum', 13), ('adzcoin', 1), ('hyperstake', 9), ('bitzeny', 13), ('fastcoin', 19), ('ultracoin', 1), ('machinecoin', 1), ('insanecoin', 4), ('moin', 3), ('bitradio', 26), ('monacocoin', 3), ('sumokoin', 31), ('fantomcoin', 8), ('capricoin', 3), ('zetacoin', 28), ('teslacoin', 1), ('bata', 4), ('torcoin', 12), ('netcoin', 7), ('denarius', 20), ('linda', 13), ('colossuscoinxt', 6), ('luxcoin', 7), ('phoenixcoin', 20), ('ellaism', 2), ('dashcoin', 26), ('tagcoin', 13), ('sprouts', 2), ('triangles', 2), ('digitalprice', 1), ('pakcoin', 5), ('deutsche-emark', 5), ('fujicoin', 3), ('vsync', 2), ('cagecoin', 1), ('ethereum-dark', 11), ('mincoin', 1), ('embercoin', 2), ('trumpcoin', 4), ('joulecoin', 8), ('nyancoin', 6), ('bitgem', 4), ('fluttercoin', 6), ('acoin', 3), ('cannacoin', 9), ('zurcoin', 1), ('goldblocks', 3), ('blakecoin', 6), ('catcoin', 3), ('usde', 6), ('cypher', 1), ('boostcoin', 2), ('master-swiscoin', 3), ('solarflarecoin', 1), ('crevacoin', 1), ('grimcoin', 3), ('1337', 4), ('falcoin', 4), ('martexcoin', 13), ('infinitecoin', 22), ('cryptcoin', 1), ('incakoin', 1), ('anoncoin', 3), ('pandacoin', 7), ('shadowcash', 89), ('bitstar', 3), ('hobonickels', 8), ('bitbar', 14), ('maxcoin', 64), ('orbitcoin', 3), ('britcoin', 1), ('trollcoin', 2), ('mazacoin', 21), ('gaia', 1), ('daxxcoin', 2), ('noblecoin', 2), ('eternity', 9), ('electra', 2), ('bitcoin-scrypt', 1), ('piggycoin', 6), ('opal', 6), ('purevidz', 1), ('titcoin', 7), ('hodlcoin', 16), ('the-cypherfunks', 7), ('shilling', 3), ('grantcoin', 3), ('kushcoin', 1), ('biblepay', 6), ('digitalcoin', 17), ('ratecoin', 1), ('revolvercoin', 1), ('paycoin', 41), ('crypto', 3), ('quazarcoin', 4), ('tittiecoin', 6), ('bottlecaps', 7), ('droxne', 3), ('spacecoin', 1), ('cachecoin', 2), ('quatloo', 4), ('goldpieces', 2), ('jobscoin', 1), ('argentum', 1), ('kurrent', 6), ('franko', 4), ('metal-music-coin', 1), ('virtacoinplus', 73), ('macron', 1), ('hexx', 1), ('uro', 4), ('pesobit', 4), ('steps', 2), ('frazcoin', 1), ('virtacoin', 73), ('enigma', 138), ('geysercoin', 2), ('bitcoin-gold', 367), ('clubcoin', 3), ('boscoin', 48), ('desire', 3), ('terranova', 1), ('vpncoin', 16), ('paccoin', 2), ('force', 2), ('dfscoin', 1), ('adcoin', 10), ('protean', 1), ('qora', 35), ('cyder', 1), ('lepen', 1), ('sakuracoin', 5), ('edrcoin', 5), ('royalties', 1), ('hyper', 5), ('peoplecoin', 1)]\n"
     ]
    },
    {
     "data": {
      "image/png": "[encoded data removed]",
      "text/plain": [
       "<matplotlib.figure.Figure at 0x2786168b080>"
      ]
     },
     "metadata": {},
     "output_type": "display_data"
    }
   ],
   "source": [
    "# In-degrees of currencies\n",
    "curr_in = Stargaze_Network.in_degree(currencies)\n",
    "print(curr_in)\n",
    "\n",
    "# Degrees only\n",
    "curr_deg = [d[1] for d in curr_in]\n",
    "\n",
    "# Make Histogram\n",
    "plt.hist(curr_deg, bins=30)\n",
    "plt.show()"
   ]
  },
  {
   "cell_type": "markdown",
   "metadata": {},
   "source": [
    "Here, bitcoin (obviously) takes the cake with nearly 20000 stargazers. Most currencies have only a few followers. This is a power-law dstribution again."
   ]
  }
 ],
 "metadata": {
  "kernelspec": {
   "display_name": "Python 3",
   "language": "python",
   "name": "python3"
  },
  "language_info": {
   "codemirror_mode": {
    "name": "ipython",
    "version": 3
   },
   "file_extension": ".py",
   "mimetype": "text/x-python",
   "name": "python",
   "nbconvert_exporter": "python",
   "pygments_lexer": "ipython3",
   "version": "3.6.3"
  }
 },
 "nbformat": 4,
 "nbformat_minor": 2
}
