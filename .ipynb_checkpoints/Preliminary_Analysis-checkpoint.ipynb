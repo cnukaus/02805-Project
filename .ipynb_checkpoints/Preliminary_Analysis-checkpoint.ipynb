{
 "cells": [
  {
   "cell_type": "code",
   "execution_count": 18,
   "metadata": {},
   "outputs": [],
   "source": [
    "from github import Github\n",
    "import networkx as nx\n",
    "import pickle"
   ]
  },
  {
   "cell_type": "code",
   "execution_count": 23,
   "metadata": {
    "scrolled": true
   },
   "outputs": [],
   "source": [
    "# Object type: Dictionary\n",
    "# Key: Name of crypto currency (eg 'bitcoin', 'ethereum')\n",
    "# Value: List of PyGitHub user objects of users who stared the repo\n",
    "with open(r'./crypto_stargazers_dict.pickle', 'rb') as handle:\n",
    "    crypto_stargazers_dict = pickle.load(handle)"
   ]
  },
  {
   "cell_type": "code",
   "execution_count": 20,
   "metadata": {},
   "outputs": [],
   "source": [
    "# Object type: Dictionary\n",
    "# Key: Name of crypto currency (eg 'bitcoin', 'ethereum')\n",
    "# Value: PyGitHub repo objects\n",
    "with open(r'./crypto_repo_dict.pickle', \"rb\") as handle:\n",
    "    crypto_repo_dict = pickle.load(handle)"
   ]
  },
  {
   "cell_type": "code",
   "execution_count": 21,
   "metadata": {},
   "outputs": [],
   "source": [
    "# Object type: NetwrokX Graph\n",
    "# Nodes\n",
    "#   Type 1) Name of crypto-currency (eg 'bitcoin', 'ethereum')\n",
    "#   Type 2) Github usernames of people who starred crypto - repositories (eg johannesostner, shasafoster)\n",
    "# Edges\n",
    "#   There is an edge between a user and a repo if the user starred the repo\n",
    "with open(r'./G.pickle', 'rb') as handle:\n",
    "    G = pickle.load(handle)"
   ]
  },
  {
   "cell_type": "code",
   "execution_count": 22,
   "metadata": {},
   "outputs": [
    {
     "name": "stdout",
     "output_type": "stream",
     "text": [
      "There are 395 valid crypto-currency repository nodes in our graph\n",
      "There are 40744 GitHub user nodes in our graph\n",
      "There are 57459 edges in our graph\n"
     ]
    }
   ],
   "source": [
    "print('There are 395 valid crypto-currency repository nodes in our graph')\n",
    "print('There are ' + str(len(G.nodes())-395) + ' GitHub user nodes in our graph')\n",
    "print('There are ' + str(len(G.edges())) + ' edges in our graph')"
   ]
  },
  {
   "cell_type": "code",
   "execution_count": null,
   "metadata": {},
   "outputs": [],
   "source": []
  },
  {
   "cell_type": "code",
   "execution_count": null,
   "metadata": {},
   "outputs": [],
   "source": []
  }
 ],
 "metadata": {
  "kernelspec": {
   "display_name": "Python 3",
   "language": "python",
   "name": "python3"
  },
  "language_info": {
   "codemirror_mode": {
    "name": "ipython",
    "version": 3
   },
   "file_extension": ".py",
   "mimetype": "text/x-python",
   "name": "python",
   "nbconvert_exporter": "python",
   "pygments_lexer": "ipython3",
   "version": "3.6.3"
  }
 },
 "nbformat": 4,
 "nbformat_minor": 2
}
