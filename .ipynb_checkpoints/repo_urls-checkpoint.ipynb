{
 "cells": [
  {
   "cell_type": "code",
   "execution_count": 15,
   "metadata": {
    "collapsed": true
   },
   "outputs": [],
   "source": [
    "from bs4 import BeautifulSoup\n",
    "import urllib.request\n",
    "from lxml import etree\n",
    "import pickle\n",
    "import os\n",
    "import glob\n",
    "import re\n",
    "import sys"
   ]
  },
  {
   "cell_type": "code",
   "execution_count": 16,
   "metadata": {},
   "outputs": [],
   "source": [
    "crypto = r'bitcoin'"
   ]
  },
  {
   "cell_type": "code",
   "execution_count": 23,
   "metadata": {},
   "outputs": [],
   "source": [
    "def getUrl(crypto_name):\n",
    "    crypto_name = crypto_name.replace(' ','-')\n",
    "    url = r'https://www.coingecko.com/en/coins/' + crypto_name.lower() + r'/developer'\n",
    "    req = urllib.request.Request(url, headers={'User-Agent': 'Mozilla/5.0'})\n",
    "    html = urllib.request.urlopen(req).read()\n",
    "    soup = BeautifulSoup(html, 'lxml')\n",
    "    try:\n",
    "        base_url = soup.find('a', href=True, text='Code Repository')['href']\n",
    "        return base_url\n",
    "    except TypeError:\n",
    "        return None\n",
    "        "
   ]
  },
  {
   "cell_type": "code",
   "execution_count": 18,
   "metadata": {},
   "outputs": [],
   "source": [
    "def getNames():\n",
    "    url = r'https://coinmarketcap.com/coins/views/all/'\n",
    "    response = urllib.request.urlopen(url)\n",
    "    soup = BeautifulSoup(response, 'lxml')\n",
    "    names_divs = soup.findAll('a', { 'class' : 'currency-name-container' })\n",
    "    names_text = [div.text for div in names_divs]\n",
    "    return names_text"
   ]
  },
  {
   "cell_type": "code",
   "execution_count": 19,
   "metadata": {},
   "outputs": [
    {
     "name": "stdout",
     "output_type": "stream",
     "text": [
      "There are 903   -source coinmarketcap.com\n",
      "['Bitcoin', 'Ethereum', 'Bitcoin Cash', 'Ripple', 'Litecoin']\n"
     ]
    }
   ],
   "source": [
    "crypto_currency_names = getNames()\n",
    "N = len(crypto_currency_names)\n",
    "\n",
    "print('There are ' + str(N) + '   -source coinmarketcap.com')\n",
    "print(crypto_currency_names[0:5])"
   ]
  },
  {
   "cell_type": "code",
   "execution_count": 25,
   "metadata": {},
   "outputs": [
    {
     "name": "stdout",
     "output_type": "stream",
     "text": [
      "0.0\n",
      "10.0\n",
      "20.0\n",
      "30.0\n",
      "40.0\n",
      "50.0\n",
      "60.0\n",
      "70.0\n",
      "80.0\n",
      "90.0\n",
      "https://github.com/bitcoin/bitcoin\n",
      "https://github.com/ethereum/go-ethereum\n",
      "None\n",
      "https://github.com/ripple/rippled\n",
      "https://github.com/litecoin-project/litecoin\n"
     ]
    }
   ],
   "source": [
    "cyptoName_gitUrl_dict = {}\n",
    "\n",
    "\n",
    "for i,name in enumerate(crypto_currency_names):\n",
    "    if i < 10:\n",
    "        try: \n",
    "            git_url = getUrl(name)\n",
    "        except:\n",
    "            git_url = None\n",
    "\n",
    "        cyptoName_gitUrl_dict[name] = git_url\n",
    "        if(i%1 == 0):\n",
    "            print(\"\\r{0}\".format((float(i)/10)*100))\n",
    "    \n",
    "for name in crypto_currency_names[0:5]:\n",
    "    print(cyptoName_gitUrl_dict[name])"
   ]
  },
  {
   "cell_type": "code",
   "execution_count": null,
   "metadata": {
    "collapsed": true
   },
   "outputs": [],
   "source": [
    "nones = {k:v for k,v in kwargs.items() if v is None}\n",
    "prin(nones)"
   ]
  },
  {
   "cell_type": "code",
   "execution_count": 2,
   "metadata": {},
   "outputs": [
    {
     "name": "stdout",
     "output_type": "stream",
     "text": [
      "[                                        ----------------------------------------\n"
     ]
    }
   ],
   "source": [
    "import time\n",
    "import sys\n",
    "\n",
    "toolbar_width = 40\n",
    "\n",
    "# setup toolbar\n",
    "sys.stdout.write(\"[%s]\" % (\" \" * toolbar_width))\n",
    "sys.stdout.flush()\n",
    "sys.stdout.write(\"\\b\" * (toolbar_width+1)) # return to start of line, after '['\n",
    "\n",
    "for i in range(toolbar_width):\n",
    "    time.sleep(0.1) # do real work here\n",
    "    # update the bar\n",
    "    sys.stdout.write(\"-\")\n",
    "    sys.stdout.flush()\n",
    "\n",
    "sys.stdout.write(\"\\n\")"
   ]
  },
  {
   "cell_type": "code",
   "execution_count": null,
   "metadata": {
    "collapsed": true
   },
   "outputs": [],
   "source": []
  }
 ],
 "metadata": {
  "kernelspec": {
   "display_name": "Python 3",
   "language": "python",
   "name": "python3"
  },
  "language_info": {
   "codemirror_mode": {
    "name": "ipython",
    "version": 3
   },
   "file_extension": ".py",
   "mimetype": "text/x-python",
   "name": "python",
   "nbconvert_exporter": "python",
   "pygments_lexer": "ipython3",
   "version": "3.6.3"
  }
 },
 "nbformat": 4,
 "nbformat_minor": 2
}
