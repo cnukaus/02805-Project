{
 "cells": [
  {
   "cell_type": "markdown",
   "metadata": {},
   "source": [
    "# 1. Motivation\n",
    "\n",
    "## 1.1 How and why we want to analyze the cryptocurrency developer community\n",
    "\n",
    "Cryptocurrencies are maybe the most interesting economic phenomenon in recent years. Being able to basically generate money by running computer algorithms and doing very little work after an initial setup is a very tempting outlook for everybody. And even though the possible uses of bitcoin and co. to actually buy stuff from the real world are still limited, more and more people have jumped on the train of mining and trading with cryptocurrencies, resulting in huge value increases. In 2017 alone, the worth of bitcoin, the oldest, most common and most valuable cryptocurrency, has increased more than tenfold, [eclipsing the 10,000$ mark on November 28th](http://markets.businessinsider.com/currencies/news/bitcoin-price-clears-10000-2017-11-1009817597). This has lead to some interesting developments in recent time, such as prices for some computer hardware, especially powerful graphics cards, [almost doubling in the last year](https://www.digitaltrends.com/computing/cryptocurrency-mining-graphics-card-prices/).\n",
    "\n",
    "But just as more and more people have begun to join the virtual gold rush and try their luck at mining bitcoins with their home equipment, other groups of programming enthusiasts and cryptology specialists have started to create alternatives to the almighty bitcoin, resulting in hundreds of more or less valuable virtual forms of money being available and ready to be mined. In order to do so, one has to get a piece of source code from the internet, which is most of the time stored on github.\n",
    "\n",
    "Github itself, again, is not only a way to share and collaborate on programmin projects, but also has functions that make it a social platform, such as the ability to follow another user or to \"like\" a certain project or code reporitory. This second act is called \"stargazing\" in github terms. And that's where data science and social graphs come into play. We want to find out, how the stargazer community of different cryptocurrencies is shaped. In order to do so, we need to get the necessary information about the code repositories via the github api and then analyze it with tools of network science. \n",
    "\n",
    "We also want to take a look at the Wikipedia entries of some cryptocurrencies and try to find differences in word choice, etc. Because most of the digital currencies are very new or small, the number of Wikipedia entries is very limited.\n",
    "\n",
    "> *TL;DR:* **We want to analyze the community of cryptocurrency enthusiasts on github and the corresponding Wikipedia pages. We want to do this, because it is a booming, highly discussed industry that could change the face of the financial world**"
   ]
  },
  {
   "cell_type": "markdown",
   "metadata": {},
   "source": [
    "## 1.2 Dataset description\n",
    "\n",
    "The dataset that we collected and analyzed contains the github repositories for over 300 cryptocurrencies and their stargazers. Also, we have information on which of the users that starred one of the repositories follow each other. The second piece of data are the Wikipedia pages to some of the aforementioned currencies."
   ]
  },
  {
   "cell_type": "markdown",
   "metadata": {},
   "source": [
    "## 1.3 Goals for user experience\n",
    "\n",
    "With the website, we want to provide insight to several questions about the cryptocurrency community:\n",
    "\n",
    "* How is github relevance connected to a currency's market value?\n",
    "* What are the similarities between several cryptocurrencies' following bases?\n",
    "* Are there communities within the group of users starring cryptocurrency repositories?\n",
    "* What can we gain from analyzing the Wikipedia pages of certain currencies?"
   ]
  },
  {
   "cell_type": "markdown",
   "metadata": {},
   "source": [
    "# 2. The data\n",
    "\n",
    "## 2.1 Dataset collection and setup\n",
    "\n",
    "### 2.1.1 Network data collection\n",
    "\n",
    "To gain an insight on which cryptocurrencies exist and where to find their source code, we first need a place to gain this information from. On [coinmarketcap.com](https://coinmarketcap.com/), we can find all the cryptocurrencies' names:\n",
    "\n",
    "\n"
   ]
  },
  {
   "cell_type": "code",
   "execution_count": null,
   "metadata": {
    "collapsed": true
   },
   "outputs": [],
   "source": [
    "from bs4 import BeautifulSoup\n",
    "import urllib.request\n",
    "from lxml import etree\n",
    "import pickle\n",
    "import os\n",
    "import glob\n",
    "import re\n",
    "import sys"
   ]
  },
  {
   "cell_type": "code",
   "execution_count": null,
   "metadata": {
    "collapsed": true
   },
   "outputs": [],
   "source": [
    "def getNames():\n",
    "    url = r'https://coinmarketcap.com/coins/views/all/'\n",
    "    response = urllib.request.urlopen(url)\n",
    "    soup = BeautifulSoup(response, 'lxml')\n",
    "    names_divs = soup.findAll('a', { 'class' : 'currency-name-container' })\n",
    "    names_text = [div.text for div in names_divs]\n",
    "    return names_text"
   ]
  },
  {
   "cell_type": "markdown",
   "metadata": {},
   "source": [
    "Now, we need to clean up the currency names so that they all match the same standard"
   ]
  },
  {
   "cell_type": "code",
   "execution_count": 5,
   "metadata": {},
   "outputs": [
    {
     "name": "stdout",
     "output_type": "stream",
     "text": [
      "There are 903 crypto-currencies.   -source coinmarketcap.com\n",
      "['bitcoin', 'ethereum', 'bitcoin-cash', 'ripple', 'litecoin']\n"
     ]
    }
   ],
   "source": [
    "crypto_currency_names = [name.replace(' ','-').lower() for name in getNames()]\n",
    "N = len(crypto_currency_names)\n",
    "\n",
    "print('There are ' + str(N) + ' crypto-currencies.   -source coinmarketcap.com')\n",
    "print(crypto_currency_names[0:5]) # (These are the top five)"
   ]
  },
  {
   "cell_type": "markdown",
   "metadata": {},
   "source": [
    "As a next step, we need to find the actual github repositories for the currencies. The site [coingecko.com](https://www.coingecko.com/en) allows us to get this information (Note that not all cryptocurrencies have github repositories, thus we will end up with a shorter list than before):"
   ]
  },
  {
   "cell_type": "code",
   "execution_count": null,
   "metadata": {
    "collapsed": true
   },
   "outputs": [],
   "source": []
  },
  {
   "cell_type": "markdown",
   "metadata": {},
   "source": [
    "### 2.1.2 Network setup\n",
    "\n",
    "With the data we gained, we can now set up a network with the following properties: \n",
    "* **Nodes** can either be **users** or **currencies**. This is specified by a node attribute \"Type\"\n",
    "* **Edges** are either of the type **gazes** (User-to-currency) or **follows** (user-to-user)"
   ]
  },
  {
   "cell_type": "code",
   "execution_count": 1,
   "metadata": {
    "collapsed": true
   },
   "outputs": [],
   "source": [
    "from github import Github\n",
    "import networkx as nx\n",
    "import pickle\n",
    "import random\n",
    "import json\n",
    "import numpy as np\n",
    "import matplotlib.pyplot as plt \n",
    "import re\n",
    "import itertools as it\n",
    "import operator"
   ]
  },
  {
   "cell_type": "code",
   "execution_count": 2,
   "metadata": {
    "collapsed": true
   },
   "outputs": [],
   "source": [
    "# Load data\n",
    "with open('./crypto_stargazers_dict.pickle', 'rb') as handle:\n",
    "    crypto_stargazers_dict = pickle.load(handle)\n",
    "    \n",
    "Stargaze_Network = nx.DiGraph()\n",
    "\n",
    "# Setup network\n",
    "for crypto_name, stargazers_list in crypto_stargazers_dict.items():\n",
    "    # Add node for the currency (if not already there)\n",
    "    if crypto_name not in Stargaze_Network.nodes():\n",
    "        Stargaze_Network.add_node(crypto_name, Type=\"Currency\")\n",
    "    for user in stargazers_list:\n",
    "        # add nodes for all stargazers (if not already there)\n",
    "        if user.login not in Stargaze_Network.nodes():\n",
    "            Stargaze_Network.add_node(user.login, Type=\"User\")\n",
    "            \n",
    "        # add edge from user to currency\n",
    "        Stargaze_Network.add_edge(user.login, crypto_name, type=\"gazes\")\n",
    "\n",
    "# Save the graph\n",
    "with open('./Stargaze_Network.pickle', 'wb') as handle:\n",
    "    pickle.dump(Stargaze_Network, handle, protocol=pickle.HIGHEST_PROTOCOL)"
   ]
  },
  {
   "cell_type": "markdown",
   "metadata": {},
   "source": [
    "### 2.1.3 Wikipedia entry collection\n",
    "\n"
   ]
  }
 ],
 "metadata": {
  "kernelspec": {
   "display_name": "Python 3",
   "language": "python",
   "name": "python3"
  },
  "language_info": {
   "codemirror_mode": {
    "name": "ipython",
    "version": 3
   },
   "file_extension": ".py",
   "mimetype": "text/x-python",
   "name": "python",
   "nbconvert_exporter": "python",
   "pygments_lexer": "ipython3",
   "version": "3.6.3"
  }
 },
 "nbformat": 4,
 "nbformat_minor": 2
}
